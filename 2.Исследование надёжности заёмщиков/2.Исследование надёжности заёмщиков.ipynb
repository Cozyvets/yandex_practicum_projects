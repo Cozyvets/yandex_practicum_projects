{
 "cells": [
  {
   "cell_type": "markdown",
   "id": "4f11de00",
   "metadata": {
    "deletable": false,
    "editable": false,
    "id": "4f11de00"
   },
   "source": [
    "# Исследование надежности заемщиков"
   ]
  },
  {
   "cell_type": "markdown",
   "id": "f09d6878",
   "metadata": {
    "deletable": false,
    "editable": false,
    "id": "f09d6878"
   },
   "source": [
    "Это первая часть проекта, она будет проверена автоматически. Вторую часть проверит ревьюер. "
   ]
  },
  {
   "cell_type": "markdown",
   "id": "516620ee",
   "metadata": {
    "deletable": false,
    "editable": false,
    "id": "516620ee"
   },
   "source": [
    "## Откройте таблицу и изучите общую информацию о данных"
   ]
  },
  {
   "cell_type": "markdown",
   "id": "76a8a9ce",
   "metadata": {
    "deletable": false,
    "editable": false,
    "id": "76a8a9ce",
    "tags": [
     "start_task"
    ]
   },
   "source": [
    "**Задание 1. Импортируйте библиотеку pandas. Считайте данные из csv-файла в датафрейм и сохраните в переменную `data`. Путь к файлу:**\n",
    "\n",
    "`/datasets/data.csv`"
   ]
  },
  {
   "cell_type": "code",
   "execution_count": 1,
   "id": "fab207d0",
   "metadata": {
    "id": "fab207d0"
   },
   "outputs": [],
   "source": [
    "# импортируйте библиотеку pandas\n",
    "import pandas as pd"
   ]
  },
  {
   "cell_type": "code",
   "execution_count": 2,
   "id": "6c82b607",
   "metadata": {
    "id": "6c82b607",
    "scrolled": true
   },
   "outputs": [],
   "source": [
    "# прочитайте csv-файл\n",
    "try:\n",
    "    data = pd.read_csv('/Users/666/Documents/Data Analysis/Проекты/df/data.csv')\n",
    "except:\n",
    "    data = pd.read_csv('/datasets/data.csv')"
   ]
  },
  {
   "cell_type": "markdown",
   "id": "08bbb5b3",
   "metadata": {
    "deletable": false,
    "editable": false,
    "id": "08bbb5b3",
    "tags": [
     "start_task"
    ]
   },
   "source": [
    "**Задание 2. Выведите первые 20 строчек датафрейма `data` на экран.**"
   ]
  },
  {
   "cell_type": "code",
   "execution_count": 3,
   "id": "4ff33b36",
   "metadata": {
    "id": "4ff33b36"
   },
   "outputs": [
    {
     "name": "stdout",
     "output_type": "stream",
     "text": [
      "    children  days_employed  dob_years            education  education_id  \\\n",
      "0          1   -8437.673028         42               высшее             0   \n",
      "1          1   -4024.803754         36              среднее             1   \n",
      "2          0   -5623.422610         33              Среднее             1   \n",
      "3          3   -4124.747207         32              среднее             1   \n",
      "4          0  340266.072047         53              среднее             1   \n",
      "5          0    -926.185831         27               высшее             0   \n",
      "6          0   -2879.202052         43               высшее             0   \n",
      "7          0    -152.779569         50              СРЕДНЕЕ             1   \n",
      "8          2   -6929.865299         35               ВЫСШЕЕ             0   \n",
      "9          0   -2188.756445         41              среднее             1   \n",
      "10         2   -4171.483647         36               высшее             0   \n",
      "11         0    -792.701887         40              среднее             1   \n",
      "12         0            NaN         65              среднее             1   \n",
      "13         0   -1846.641941         54  неоконченное высшее             2   \n",
      "14         0   -1844.956182         56               высшее             0   \n",
      "15         1    -972.364419         26              среднее             1   \n",
      "16         0   -1719.934226         35              среднее             1   \n",
      "17         0   -2369.999720         33               высшее             0   \n",
      "18         0  400281.136913         53              среднее             1   \n",
      "19         0  -10038.818549         48              СРЕДНЕЕ             1   \n",
      "\n",
      "       family_status  family_status_id gender income_type  debt  \\\n",
      "0    женат / замужем                 0      F   сотрудник     0   \n",
      "1    женат / замужем                 0      F   сотрудник     0   \n",
      "2    женат / замужем                 0      M   сотрудник     0   \n",
      "3    женат / замужем                 0      M   сотрудник     0   \n",
      "4   гражданский брак                 1      F   пенсионер     0   \n",
      "5   гражданский брак                 1      M   компаньон     0   \n",
      "6    женат / замужем                 0      F   компаньон     0   \n",
      "7    женат / замужем                 0      M   сотрудник     0   \n",
      "8   гражданский брак                 1      F   сотрудник     0   \n",
      "9    женат / замужем                 0      M   сотрудник     0   \n",
      "10   женат / замужем                 0      M   компаньон     0   \n",
      "11   женат / замужем                 0      F   сотрудник     0   \n",
      "12  гражданский брак                 1      M   пенсионер     0   \n",
      "13   женат / замужем                 0      F   сотрудник     0   \n",
      "14  гражданский брак                 1      F   компаньон     1   \n",
      "15   женат / замужем                 0      F   сотрудник     0   \n",
      "16   женат / замужем                 0      F   сотрудник     0   \n",
      "17  гражданский брак                 1      M   сотрудник     0   \n",
      "18    вдовец / вдова                 2      F   пенсионер     0   \n",
      "19         в разводе                 3      F   сотрудник     0   \n",
      "\n",
      "     total_income                                 purpose  \n",
      "0   253875.639453                           покупка жилья  \n",
      "1   112080.014102                 приобретение автомобиля  \n",
      "2   145885.952297                           покупка жилья  \n",
      "3   267628.550329              дополнительное образование  \n",
      "4   158616.077870                         сыграть свадьбу  \n",
      "5   255763.565419                           покупка жилья  \n",
      "6   240525.971920                       операции с жильем  \n",
      "7   135823.934197                             образование  \n",
      "8    95856.832424                   на проведение свадьбы  \n",
      "9   144425.938277                 покупка жилья для семьи  \n",
      "10  113943.491460                    покупка недвижимости  \n",
      "11   77069.234271       покупка коммерческой недвижимости  \n",
      "12            NaN                         сыграть свадьбу  \n",
      "13  130458.228857                 приобретение автомобиля  \n",
      "14  165127.911772              покупка жилой недвижимости  \n",
      "15  116820.904450  строительство собственной недвижимости  \n",
      "16  289202.704229                            недвижимость  \n",
      "17   90410.586745              строительство недвижимости  \n",
      "18   56823.777243      на покупку подержанного автомобиля  \n",
      "19  242831.107982            на покупку своего автомобиля  \n"
     ]
    }
   ],
   "source": [
    "# ваш код здесь\n",
    "print(data.head(20))"
   ]
  },
  {
   "cell_type": "markdown",
   "id": "c8f382ae",
   "metadata": {
    "deletable": false,
    "editable": false,
    "id": "c8f382ae",
    "tags": [
     "start_task"
    ]
   },
   "source": [
    "**Задание 3. Выведите основную информацию о датафрейме с помощью метода `info()`.**"
   ]
  },
  {
   "cell_type": "code",
   "execution_count": 4,
   "id": "e1ed9908",
   "metadata": {
    "id": "e1ed9908"
   },
   "outputs": [
    {
     "name": "stdout",
     "output_type": "stream",
     "text": [
      "<class 'pandas.core.frame.DataFrame'>\n",
      "RangeIndex: 21525 entries, 0 to 21524\n",
      "Data columns (total 12 columns):\n",
      " #   Column            Non-Null Count  Dtype  \n",
      "---  ------            --------------  -----  \n",
      " 0   children          21525 non-null  int64  \n",
      " 1   days_employed     19351 non-null  float64\n",
      " 2   dob_years         21525 non-null  int64  \n",
      " 3   education         21525 non-null  object \n",
      " 4   education_id      21525 non-null  int64  \n",
      " 5   family_status     21525 non-null  object \n",
      " 6   family_status_id  21525 non-null  int64  \n",
      " 7   gender            21525 non-null  object \n",
      " 8   income_type       21525 non-null  object \n",
      " 9   debt              21525 non-null  int64  \n",
      " 10  total_income      19351 non-null  float64\n",
      " 11  purpose           21525 non-null  object \n",
      "dtypes: float64(2), int64(5), object(5)\n",
      "memory usage: 2.0+ MB\n"
     ]
    }
   ],
   "source": [
    "# ваш код здесь\n",
    "data.info()"
   ]
  },
  {
   "cell_type": "markdown",
   "id": "f969a1cd",
   "metadata": {
    "deletable": false,
    "editable": false,
    "id": "f969a1cd"
   },
   "source": [
    "## Предобработка данных"
   ]
  },
  {
   "cell_type": "markdown",
   "id": "7283e864",
   "metadata": {
    "deletable": false,
    "editable": false,
    "id": "7283e864"
   },
   "source": [
    "### Удаление пропусков"
   ]
  },
  {
   "cell_type": "markdown",
   "id": "c9a0745e",
   "metadata": {
    "deletable": false,
    "editable": false,
    "id": "c9a0745e",
    "tags": [
     "start_task"
    ]
   },
   "source": [
    "**Задание 4. Выведите количество пропущенных значений для каждого столбца. Используйте комбинацию двух методов.**"
   ]
  },
  {
   "cell_type": "code",
   "execution_count": 5,
   "id": "b7a096e1",
   "metadata": {
    "id": "b7a096e1"
   },
   "outputs": [
    {
     "data": {
      "text/plain": [
       "children               0\n",
       "days_employed       2174\n",
       "dob_years              0\n",
       "education              0\n",
       "education_id           0\n",
       "family_status          0\n",
       "family_status_id       0\n",
       "gender                 0\n",
       "income_type            0\n",
       "debt                   0\n",
       "total_income        2174\n",
       "purpose                0\n",
       "dtype: int64"
      ]
     },
     "execution_count": 5,
     "metadata": {},
     "output_type": "execute_result"
    }
   ],
   "source": [
    "# ваш код здесь\n",
    "data.isna().sum()"
   ]
  },
  {
   "cell_type": "markdown",
   "id": "c2578616",
   "metadata": {
    "deletable": false,
    "editable": false,
    "id": "c2578616",
    "tags": [
     "start_task"
    ]
   },
   "source": [
    "**Задание 5. В двух столбцах есть пропущенные значения. Один из них — `days_employed`. Пропуски в этом столбце вы обработаете на следующем этапе. Другой столбец с пропущенными значениями — `total_income` — хранит данные о доходах. На сумму дохода сильнее всего влияет тип занятости, поэтому заполнить пропуски в этом столбце нужно медианным значением по каждому типу из столбца `income_type`. Например, у человека с типом занятости `сотрудник` пропуск в столбце `total_income` должен быть заполнен медианным доходом среди всех записей с тем же типом.**"
   ]
  },
  {
   "cell_type": "code",
   "execution_count": 6,
   "id": "e8afc4bc",
   "metadata": {
    "id": "e8afc4bc"
   },
   "outputs": [],
   "source": [
    "# ваш код здесь\n",
    "for i in data['income_type'].unique():\n",
    "    data.loc[(i == data['income_type']) & (data['total_income'].isna()),'total_income'] = \\\n",
    "    data.loc[(data['income_type'] == i), 'total_income'].median()"
   ]
  },
  {
   "cell_type": "markdown",
   "id": "ae986d46",
   "metadata": {
    "deletable": false,
    "editable": false,
    "id": "ae986d46"
   },
   "source": [
    "### Обработка аномальных значений"
   ]
  },
  {
   "cell_type": "markdown",
   "id": "b049cbae",
   "metadata": {
    "deletable": false,
    "editable": false,
    "id": "b049cbae",
    "tags": [
     "start_task"
    ]
   },
   "source": [
    "**Задание 6. В данных могут встречаться артефакты (аномалии) — значения, которые не отражают действительность и появились по какой-то ошибке. Таким артефактом будет отрицательное количество дней трудового стажа в столбце `days_employed`. Для реальных данных это нормально. Обработайте значения в этом столбце: замените все отрицательные значения положительными с помощью метода `abs()`.**"
   ]
  },
  {
   "cell_type": "code",
   "execution_count": 7,
   "id": "187779b0",
   "metadata": {
    "id": "187779b0"
   },
   "outputs": [],
   "source": [
    "# ваш код здесь\n",
    "data['days_employed'] = data['days_employed'].abs()"
   ]
  },
  {
   "cell_type": "markdown",
   "id": "a13054c2",
   "metadata": {
    "deletable": false,
    "editable": false,
    "id": "a13054c2",
    "tags": [
     "start_task"
    ]
   },
   "source": [
    "**Задание 7. Для каждого типа занятости выведите медианное значение трудового стажа `days_employed` в днях.**"
   ]
  },
  {
   "cell_type": "code",
   "execution_count": 8,
   "id": "f3f5810c",
   "metadata": {
    "id": "f3f5810c"
   },
   "outputs": [
    {
     "data": {
      "text/plain": [
       "income_type\n",
       "безработный        366413.652744\n",
       "в декрете            3296.759962\n",
       "госслужащий          2689.368353\n",
       "компаньон            1547.382223\n",
       "пенсионер          365213.306266\n",
       "предприниматель       520.848083\n",
       "сотрудник            1574.202821\n",
       "студент               578.751554\n",
       "Name: days_employed, dtype: float64"
      ]
     },
     "execution_count": 8,
     "metadata": {},
     "output_type": "execute_result"
    }
   ],
   "source": [
    "# ваш код здесь\n",
    "data.groupby('income_type')['days_employed'].median()"
   ]
  },
  {
   "cell_type": "markdown",
   "id": "dbc3168c",
   "metadata": {
    "deletable": false,
    "editable": false,
    "id": "dbc3168c"
   },
   "source": [
    "У двух типов (безработные и пенсионеры) получатся аномально большие значения. Исправить такие значения сложно, поэтому оставьте их как есть."
   ]
  },
  {
   "cell_type": "markdown",
   "id": "ff4378c2",
   "metadata": {
    "deletable": false,
    "editable": false,
    "id": "ff4378c2",
    "tags": [
     "start_task"
    ]
   },
   "source": [
    "**Задание 8. Выведите перечень уникальных значений столбца `children`.**"
   ]
  },
  {
   "cell_type": "code",
   "execution_count": 9,
   "id": "9bd0c232",
   "metadata": {
    "id": "9bd0c232"
   },
   "outputs": [
    {
     "data": {
      "text/plain": [
       "array([ 1,  0,  3,  2, -1,  4, 20,  5])"
      ]
     },
     "execution_count": 9,
     "metadata": {},
     "output_type": "execute_result"
    }
   ],
   "source": [
    "# ваш код здесь\n",
    "data['children'].unique()"
   ]
  },
  {
   "cell_type": "markdown",
   "id": "8e911990",
   "metadata": {
    "deletable": false,
    "editable": false,
    "id": "8e911990",
    "tags": [
     "start_task"
    ]
   },
   "source": [
    "**Задание 9. В столбце `children` есть два аномальных значения. Удалите строки, в которых встречаются такие аномальные значения из датафрейма `data`.**"
   ]
  },
  {
   "cell_type": "code",
   "execution_count": 10,
   "id": "6d5ba289",
   "metadata": {
    "id": "6d5ba289"
   },
   "outputs": [],
   "source": [
    "# ваш код здесь\n",
    "data = data.loc[data['children'] != -1]\n",
    "data = data.loc[data['children'] != 20]"
   ]
  },
  {
   "cell_type": "markdown",
   "id": "18d77455",
   "metadata": {
    "deletable": false,
    "editable": false,
    "id": "18d77455",
    "tags": [
     "start_task"
    ]
   },
   "source": [
    "**Задание 10. Ещё раз выведите перечень уникальных значений столбца `children`, чтобы убедиться, что артефакты удалены.**"
   ]
  },
  {
   "cell_type": "code",
   "execution_count": 11,
   "id": "2c5fa92c",
   "metadata": {
    "id": "2c5fa92c"
   },
   "outputs": [
    {
     "data": {
      "text/plain": [
       "array([1, 0, 3, 2, 4, 5])"
      ]
     },
     "execution_count": 11,
     "metadata": {},
     "output_type": "execute_result"
    }
   ],
   "source": [
    "# ваш код здесь\n",
    "data['children'].unique()"
   ]
  },
  {
   "cell_type": "markdown",
   "id": "0ec07dee",
   "metadata": {
    "deletable": false,
    "editable": false,
    "id": "0ec07dee"
   },
   "source": [
    "### Удаление пропусков (продолжение)"
   ]
  },
  {
   "cell_type": "markdown",
   "id": "0fc3ae3f",
   "metadata": {
    "deletable": false,
    "editable": false,
    "id": "0fc3ae3f",
    "tags": [
     "start_task"
    ]
   },
   "source": [
    "**Задание 11. Заполните пропуски в столбце `days_employed` медианными значениями по каждому типу занятости `income_type`.**"
   ]
  },
  {
   "cell_type": "code",
   "execution_count": 12,
   "id": "e2aea7ac",
   "metadata": {
    "id": "e2aea7ac"
   },
   "outputs": [],
   "source": [
    "# ваш код здесь\n",
    "for d in data['income_type'].unique():\n",
    "    data.loc[(data['income_type'] == d) & data['days_employed'].isna(), 'days_employed']=\\\n",
    "    data.loc[(data['income_type'] == d), 'days_employed'].median()\n",
    "    \n"
   ]
  },
  {
   "cell_type": "markdown",
   "id": "97b0b795",
   "metadata": {
    "deletable": false,
    "editable": false,
    "id": "97b0b795",
    "tags": [
     "start_task"
    ]
   },
   "source": [
    "**Задание 12. Убедитесь, что все пропуски заполнены. Проверьте себя и ещё раз выведите количество пропущенных значений для каждого столбца с помощью двух методов.**"
   ]
  },
  {
   "cell_type": "code",
   "execution_count": 13,
   "id": "79632a21",
   "metadata": {
    "id": "79632a21"
   },
   "outputs": [
    {
     "data": {
      "text/plain": [
       "children            0\n",
       "days_employed       0\n",
       "dob_years           0\n",
       "education           0\n",
       "education_id        0\n",
       "family_status       0\n",
       "family_status_id    0\n",
       "gender              0\n",
       "income_type         0\n",
       "debt                0\n",
       "total_income        0\n",
       "purpose             0\n",
       "dtype: int64"
      ]
     },
     "execution_count": 13,
     "metadata": {},
     "output_type": "execute_result"
    }
   ],
   "source": [
    "# ваш код здесь\n",
    "data.isna().sum()"
   ]
  },
  {
   "cell_type": "markdown",
   "id": "bd4aeb20",
   "metadata": {
    "deletable": false,
    "editable": false,
    "id": "bd4aeb20"
   },
   "source": [
    "### Изменение типов данных"
   ]
  },
  {
   "cell_type": "markdown",
   "id": "963bfa58",
   "metadata": {
    "deletable": false,
    "editable": false,
    "id": "963bfa58",
    "tags": [
     "start_task"
    ]
   },
   "source": [
    "**Задание 13. Замените вещественный тип данных в столбце `total_income` на целочисленный с помощью метода `astype()`.**"
   ]
  },
  {
   "cell_type": "code",
   "execution_count": 14,
   "id": "73da6ea0",
   "metadata": {
    "id": "73da6ea0"
   },
   "outputs": [],
   "source": [
    "# ваш код здесь\n",
    "data['total_income'] = data['total_income'].astype(int)"
   ]
  },
  {
   "cell_type": "markdown",
   "id": "d290239e",
   "metadata": {
    "deletable": false,
    "editable": false,
    "id": "d290239e"
   },
   "source": [
    "### Обработка дубликатов"
   ]
  },
  {
   "cell_type": "markdown",
   "id": "1b5844fd",
   "metadata": {
    "deletable": false,
    "editable": false,
    "id": "1b5844fd",
    "tags": [
     "start_task"
    ]
   },
   "source": [
    "**Задание 14. Обработайте неявные дубликаты в столбце `education`. В этом столбце есть одни и те же значения, но записанные по-разному: с использованием заглавных и строчных букв. Приведите их к нижнему регистру.**"
   ]
  },
  {
   "cell_type": "code",
   "execution_count": 15,
   "id": "3f2504b3",
   "metadata": {
    "id": "3f2504b3"
   },
   "outputs": [],
   "source": [
    "# ваш код здесь\n",
    "data['education'] = data['education'].str.lower()"
   ]
  },
  {
   "cell_type": "markdown",
   "id": "4c22acbc",
   "metadata": {
    "deletable": false,
    "editable": false,
    "id": "4c22acbc",
    "tags": [
     "start_task"
    ]
   },
   "source": [
    "**Задание 15. Выведите на экран количество строк-дубликатов в данных. Если такие строки присутствуют, удалите их.**"
   ]
  },
  {
   "cell_type": "code",
   "execution_count": 16,
   "id": "d34a4325",
   "metadata": {
    "id": "d34a4325"
   },
   "outputs": [
    {
     "name": "stdout",
     "output_type": "stream",
     "text": [
      "71\n"
     ]
    }
   ],
   "source": [
    "# посчитайте дубликаты\n",
    "print(data.duplicated().sum())"
   ]
  },
  {
   "cell_type": "code",
   "execution_count": 17,
   "id": "6e1a6499",
   "metadata": {
    "id": "6e1a6499"
   },
   "outputs": [],
   "source": [
    "# удалите дубликаты\n",
    "data = data.drop_duplicates()"
   ]
  },
  {
   "cell_type": "markdown",
   "id": "e5686ccc",
   "metadata": {
    "deletable": false,
    "editable": false,
    "id": "e5686ccc"
   },
   "source": [
    "### Категоризация данных"
   ]
  },
  {
   "cell_type": "markdown",
   "id": "636e9acd",
   "metadata": {
    "deletable": false,
    "editable": false,
    "id": "636e9acd",
    "tags": [
     "start_task"
    ]
   },
   "source": [
    "**Задание 16. На основании диапазонов, указанных ниже, создайте в датафрейме `data` столбец `total_income_category` с категориями:**\n",
    "\n",
    "- 0–30000 — `'E'`;\n",
    "- 30001–50000 — `'D'`;\n",
    "- 50001–200000 — `'C'`;\n",
    "- 200001–1000000 — `'B'`;\n",
    "- 1000001 и выше — `'A'`.\n",
    "\n",
    "\n",
    "**Например, кредитополучателю с доходом 25000 нужно назначить категорию `'E'`, а клиенту, получающему 235000, — `'B'`. Используйте собственную функцию с именем `categorize_income()` и метод `apply()`.**"
   ]
  },
  {
   "cell_type": "code",
   "execution_count": 18,
   "id": "880a77e5",
   "metadata": {
    "id": "880a77e5"
   },
   "outputs": [],
   "source": [
    "# создайте функцию categorize_income()\n",
    "def categorize_income(data):\n",
    "    if data['total_income'] <= 30000:\n",
    "        return 'E'\n",
    "    if 30001 <= data['total_income'] <= 50000:\n",
    "        return 'D'\n",
    "    if 50001 <= data['total_income'] <= 200000:\n",
    "        return 'C'\n",
    "    if 200001 <= data['total_income'] <= 1000000:\n",
    "        return 'B'\n",
    "    if data['total_income'] >= 1000001:\n",
    "        return 'A'\n"
   ]
  },
  {
   "cell_type": "code",
   "execution_count": 19,
   "id": "6f25f161",
   "metadata": {
    "id": "6f25f161"
   },
   "outputs": [],
   "source": [
    "# примените функцию методом apply()\n",
    "data['total_income_category']=data.apply(categorize_income, axis=1)"
   ]
  },
  {
   "cell_type": "markdown",
   "id": "3363b685",
   "metadata": {
    "deletable": false,
    "editable": false,
    "id": "3363b685",
    "tags": [
     "start_task"
    ]
   },
   "source": [
    "**Задание 17. Выведите на экран перечень уникальных целей взятия кредита из столбца `purpose`.**"
   ]
  },
  {
   "cell_type": "code",
   "execution_count": 20,
   "id": "e59f2c15",
   "metadata": {
    "id": "e59f2c15"
   },
   "outputs": [
    {
     "name": "stdout",
     "output_type": "stream",
     "text": [
      "['покупка жилья' 'приобретение автомобиля' 'дополнительное образование'\n",
      " 'сыграть свадьбу' 'операции с жильем' 'образование'\n",
      " 'на проведение свадьбы' 'покупка жилья для семьи' 'покупка недвижимости'\n",
      " 'покупка коммерческой недвижимости' 'покупка жилой недвижимости'\n",
      " 'строительство собственной недвижимости' 'недвижимость'\n",
      " 'строительство недвижимости' 'на покупку подержанного автомобиля'\n",
      " 'на покупку своего автомобиля' 'операции с коммерческой недвижимостью'\n",
      " 'строительство жилой недвижимости' 'жилье'\n",
      " 'операции со своей недвижимостью' 'автомобили' 'заняться образованием'\n",
      " 'сделка с подержанным автомобилем' 'получение образования' 'автомобиль'\n",
      " 'свадьба' 'получение дополнительного образования' 'покупка своего жилья'\n",
      " 'операции с недвижимостью' 'получение высшего образования'\n",
      " 'свой автомобиль' 'сделка с автомобилем' 'профильное образование'\n",
      " 'высшее образование' 'покупка жилья для сдачи' 'на покупку автомобиля'\n",
      " 'ремонт жилью' 'заняться высшим образованием']\n"
     ]
    }
   ],
   "source": [
    "# ваш код здесь\n",
    "print(data['purpose'].unique())"
   ]
  },
  {
   "cell_type": "markdown",
   "id": "bb33e847",
   "metadata": {
    "deletable": false,
    "editable": false,
    "id": "bb33e847",
    "tags": [
     "start_task"
    ]
   },
   "source": [
    "**Задание 18. Создайте функцию, которая на основании данных из столбца `purpose` сформирует новый столбец `purpose_category`, в который войдут следующие категории:**\n",
    "\n",
    "- `'операции с автомобилем'`,\n",
    "- `'операции с недвижимостью'`,\n",
    "- `'проведение свадьбы'`,\n",
    "- `'получение образования'`.\n",
    "\n",
    "**Например, если в столбце `purpose` находится подстрока `'на покупку автомобиля'`, то в столбце `purpose_category` должна появиться строка `'операции с автомобилем'`.**\n",
    "\n",
    "**Используйте собственную функцию с именем `categorize_purpose()` и метод `apply()`. Изучите данные в столбце `purpose` и определите, какие подстроки помогут вам правильно определить категорию.**"
   ]
  },
  {
   "cell_type": "code",
   "execution_count": 21,
   "id": "63909b83",
   "metadata": {
    "id": "63909b83"
   },
   "outputs": [],
   "source": [
    "# создайте функцию categorize_purpose()\n",
    "def categorize_purpose(purpose):\n",
    "    if 'автомоб' in purpose:\n",
    "        return 'операции с автомобилем'\n",
    "    if 'жиль' in purpose or 'недвижи' in purpose:\n",
    "        return 'операции с недвижимостью'\n",
    "    if 'свадь'in purpose:\n",
    "        return 'проведение свадьбы'\n",
    "    if 'образо' in purpose:\n",
    "        return 'получение образования'\n"
   ]
  },
  {
   "cell_type": "code",
   "execution_count": 22,
   "id": "7cb4a81d",
   "metadata": {
    "id": "7cb4a81d"
   },
   "outputs": [
    {
     "name": "stdout",
     "output_type": "stream",
     "text": [
      "    children  days_employed  dob_years            education  education_id  \\\n",
      "0          1    8437.673028         42               высшее             0   \n",
      "1          1    4024.803754         36              среднее             1   \n",
      "2          0    5623.422610         33              среднее             1   \n",
      "3          3    4124.747207         32              среднее             1   \n",
      "4          0  340266.072047         53              среднее             1   \n",
      "5          0     926.185831         27               высшее             0   \n",
      "6          0    2879.202052         43               высшее             0   \n",
      "7          0     152.779569         50              среднее             1   \n",
      "8          2    6929.865299         35               высшее             0   \n",
      "9          0    2188.756445         41              среднее             1   \n",
      "10         2    4171.483647         36               высшее             0   \n",
      "11         0     792.701887         40              среднее             1   \n",
      "12         0  365286.622650         65              среднее             1   \n",
      "13         0    1846.641941         54  неоконченное высшее             2   \n",
      "14         0    1844.956182         56               высшее             0   \n",
      "\n",
      "       family_status  family_status_id gender income_type  debt  total_income  \\\n",
      "0    женат / замужем                 0      F   сотрудник     0        253875   \n",
      "1    женат / замужем                 0      F   сотрудник     0        112080   \n",
      "2    женат / замужем                 0      M   сотрудник     0        145885   \n",
      "3    женат / замужем                 0      M   сотрудник     0        267628   \n",
      "4   гражданский брак                 1      F   пенсионер     0        158616   \n",
      "5   гражданский брак                 1      M   компаньон     0        255763   \n",
      "6    женат / замужем                 0      F   компаньон     0        240525   \n",
      "7    женат / замужем                 0      M   сотрудник     0        135823   \n",
      "8   гражданский брак                 1      F   сотрудник     0         95856   \n",
      "9    женат / замужем                 0      M   сотрудник     0        144425   \n",
      "10   женат / замужем                 0      M   компаньон     0        113943   \n",
      "11   женат / замужем                 0      F   сотрудник     0         77069   \n",
      "12  гражданский брак                 1      M   пенсионер     0        118514   \n",
      "13   женат / замужем                 0      F   сотрудник     0        130458   \n",
      "14  гражданский брак                 1      F   компаньон     1        165127   \n",
      "\n",
      "                              purpose total_income_category  \\\n",
      "0                       покупка жилья                     B   \n",
      "1             приобретение автомобиля                     C   \n",
      "2                       покупка жилья                     C   \n",
      "3          дополнительное образование                     B   \n",
      "4                     сыграть свадьбу                     C   \n",
      "5                       покупка жилья                     B   \n",
      "6                   операции с жильем                     B   \n",
      "7                         образование                     C   \n",
      "8               на проведение свадьбы                     C   \n",
      "9             покупка жилья для семьи                     C   \n",
      "10               покупка недвижимости                     C   \n",
      "11  покупка коммерческой недвижимости                     C   \n",
      "12                    сыграть свадьбу                     C   \n",
      "13            приобретение автомобиля                     C   \n",
      "14         покупка жилой недвижимости                     C   \n",
      "\n",
      "            purpose_category  \n",
      "0   операции с недвижимостью  \n",
      "1     операции с автомобилем  \n",
      "2   операции с недвижимостью  \n",
      "3      получение образования  \n",
      "4         проведение свадьбы  \n",
      "5   операции с недвижимостью  \n",
      "6   операции с недвижимостью  \n",
      "7      получение образования  \n",
      "8         проведение свадьбы  \n",
      "9   операции с недвижимостью  \n",
      "10  операции с недвижимостью  \n",
      "11  операции с недвижимостью  \n",
      "12        проведение свадьбы  \n",
      "13    операции с автомобилем  \n",
      "14  операции с недвижимостью  \n"
     ]
    }
   ],
   "source": [
    "# примените функцию методом apply()\n",
    "data['purpose_category'] = data['purpose'].apply(categorize_purpose)\n",
    "print(data.head(15))"
   ]
  },
  {
   "cell_type": "markdown",
   "id": "be58150d",
   "metadata": {},
   "source": [
    "## Исследуйте данные и ответьте на вопросы"
   ]
  },
  {
   "cell_type": "markdown",
   "id": "a9dbc4bb",
   "metadata": {},
   "source": [
    "**Задание 19. Есть ли зависимость между количеством детей и возвратом кредита в срок?**"
   ]
  },
  {
   "cell_type": "code",
   "execution_count": 45,
   "id": "8833c064",
   "metadata": {
    "scrolled": false
   },
   "outputs": [
    {
     "name": "stdout",
     "output_type": "stream",
     "text": [
      "   children  days_employed  dob_years education  education_id  \\\n",
      "0         1    8437.673028         42    высшее             0   \n",
      "1         1    4024.803754         36   среднее             1   \n",
      "2         0    5623.422610         33   среднее             1   \n",
      "3         3    4124.747207         32   среднее             1   \n",
      "4         0  340266.072047         53   среднее             1   \n",
      "\n",
      "      family_status  family_status_id gender income_type  debt  total_income  \\\n",
      "0   женат / замужем                 0      F   сотрудник     0        253875   \n",
      "1   женат / замужем                 0      F   сотрудник     0        112080   \n",
      "2   женат / замужем                 0      M   сотрудник     0        145885   \n",
      "3   женат / замужем                 0      M   сотрудник     0        267628   \n",
      "4  гражданский брак                 1      F   пенсионер     0        158616   \n",
      "\n",
      "                      purpose total_income_category          purpose_category  \\\n",
      "0               покупка жилья                     B  операции с недвижимостью   \n",
      "1     приобретение автомобиля                     C    операции с автомобилем   \n",
      "2               покупка жилья                     C  операции с недвижимостью   \n",
      "3  дополнительное образование                     B     получение образования   \n",
      "4             сыграть свадьбу                     C        проведение свадьбы   \n",
      "\n",
      "   children_relationship  family_status_relationship  \n",
      "0               0.075438                    0.075606  \n",
      "1               0.092346                    0.093130  \n",
      "2               0.094542                    0.066246  \n",
      "3               0.081818                    0.070648  \n",
      "4               0.097561                    0.097639  \n"
     ]
    },
    {
     "data": {
      "text/html": [
       "<div>\n",
       "<style scoped>\n",
       "    .dataframe tbody tr th:only-of-type {\n",
       "        vertical-align: middle;\n",
       "    }\n",
       "\n",
       "    .dataframe tbody tr th {\n",
       "        vertical-align: top;\n",
       "    }\n",
       "\n",
       "    .dataframe thead th {\n",
       "        text-align: right;\n",
       "    }\n",
       "</style>\n",
       "<table border=\"1\" class=\"dataframe\">\n",
       "  <thead>\n",
       "    <tr style=\"text-align: right;\">\n",
       "      <th></th>\n",
       "      <th>всего должников</th>\n",
       "      <th>mean</th>\n",
       "    </tr>\n",
       "    <tr>\n",
       "      <th>children</th>\n",
       "      <th></th>\n",
       "      <th></th>\n",
       "    </tr>\n",
       "  </thead>\n",
       "  <tbody>\n",
       "    <tr>\n",
       "      <th>5</th>\n",
       "      <td>9</td>\n",
       "      <td>0.00%</td>\n",
       "    </tr>\n",
       "    <tr>\n",
       "      <th>0</th>\n",
       "      <td>14091</td>\n",
       "      <td>7.54%</td>\n",
       "    </tr>\n",
       "    <tr>\n",
       "      <th>3</th>\n",
       "      <td>330</td>\n",
       "      <td>8.18%</td>\n",
       "    </tr>\n",
       "    <tr>\n",
       "      <th>1</th>\n",
       "      <td>4808</td>\n",
       "      <td>9.23%</td>\n",
       "    </tr>\n",
       "    <tr>\n",
       "      <th>2</th>\n",
       "      <td>2052</td>\n",
       "      <td>9.45%</td>\n",
       "    </tr>\n",
       "    <tr>\n",
       "      <th>4</th>\n",
       "      <td>41</td>\n",
       "      <td>9.76%</td>\n",
       "    </tr>\n",
       "  </tbody>\n",
       "</table>\n",
       "</div>"
      ],
      "text/plain": [
       "          всего должников   mean\n",
       "children                        \n",
       "5                       9  0.00%\n",
       "0                   14091  7.54%\n",
       "3                     330  8.18%\n",
       "1                    4808  9.23%\n",
       "2                    2052  9.45%\n",
       "4                      41  9.76%"
      ]
     },
     "execution_count": 45,
     "metadata": {},
     "output_type": "execute_result"
    }
   ],
   "source": [
    "data['children_relationship'] = data.groupby('children')['debt'].sum()/data.groupby('children')['debt'].count()\n",
    "print(data.head())\n",
    "\n",
    "\n",
    "children_relationship = data.pivot_table(index = ['children'], values='debt', aggfunc=('mean', lambda x:\n",
    "                                                                                       x.count()))\n",
    "\n",
    "def percent(x):\n",
    "    return '{0:.2%}'.format(x)\n",
    "\n",
    "\n",
    "children_relationship['mean'] = children_relationship['mean'].apply(percent)\n",
    "children_relationship = children_relationship.rename(columns={'<lambda_0>': 'всего должников'})\n",
    "children_relationship.sort_values('mean')"
   ]
  },
  {
   "cell_type": "code",
   "execution_count": 46,
   "id": "d81ea8ca",
   "metadata": {},
   "outputs": [],
   "source": [
    "def relation(category):\n",
    "    return data.groupby(category)['debt'].mean().to_frame().sort_values(by='debt')"
   ]
  },
  {
   "cell_type": "code",
   "execution_count": 47,
   "id": "ae58a50e",
   "metadata": {},
   "outputs": [
    {
     "data": {
      "text/html": [
       "<div>\n",
       "<style scoped>\n",
       "    .dataframe tbody tr th:only-of-type {\n",
       "        vertical-align: middle;\n",
       "    }\n",
       "\n",
       "    .dataframe tbody tr th {\n",
       "        vertical-align: top;\n",
       "    }\n",
       "\n",
       "    .dataframe thead th {\n",
       "        text-align: right;\n",
       "    }\n",
       "</style>\n",
       "<table border=\"1\" class=\"dataframe\">\n",
       "  <thead>\n",
       "    <tr style=\"text-align: right;\">\n",
       "      <th></th>\n",
       "      <th>debt</th>\n",
       "    </tr>\n",
       "    <tr>\n",
       "      <th>children</th>\n",
       "      <th></th>\n",
       "    </tr>\n",
       "  </thead>\n",
       "  <tbody>\n",
       "    <tr>\n",
       "      <th>5</th>\n",
       "      <td>0.000000</td>\n",
       "    </tr>\n",
       "    <tr>\n",
       "      <th>0</th>\n",
       "      <td>0.075438</td>\n",
       "    </tr>\n",
       "    <tr>\n",
       "      <th>3</th>\n",
       "      <td>0.081818</td>\n",
       "    </tr>\n",
       "    <tr>\n",
       "      <th>1</th>\n",
       "      <td>0.092346</td>\n",
       "    </tr>\n",
       "    <tr>\n",
       "      <th>2</th>\n",
       "      <td>0.094542</td>\n",
       "    </tr>\n",
       "    <tr>\n",
       "      <th>4</th>\n",
       "      <td>0.097561</td>\n",
       "    </tr>\n",
       "  </tbody>\n",
       "</table>\n",
       "</div>"
      ],
      "text/plain": [
       "              debt\n",
       "children          \n",
       "5         0.000000\n",
       "0         0.075438\n",
       "3         0.081818\n",
       "1         0.092346\n",
       "2         0.094542\n",
       "4         0.097561"
      ]
     },
     "execution_count": 47,
     "metadata": {},
     "output_type": "execute_result"
    }
   ],
   "source": [
    "relation('children')"
   ]
  },
  {
   "cell_type": "code",
   "execution_count": 48,
   "id": "4353e5a8",
   "metadata": {},
   "outputs": [
    {
     "data": {
      "text/html": [
       "<div>\n",
       "<style scoped>\n",
       "    .dataframe tbody tr th:only-of-type {\n",
       "        vertical-align: middle;\n",
       "    }\n",
       "\n",
       "    .dataframe tbody tr th {\n",
       "        vertical-align: top;\n",
       "    }\n",
       "\n",
       "    .dataframe thead tr th {\n",
       "        text-align: left;\n",
       "    }\n",
       "\n",
       "    .dataframe thead tr:last-of-type th {\n",
       "        text-align: right;\n",
       "    }\n",
       "</style>\n",
       "<table border=\"1\" class=\"dataframe\">\n",
       "  <thead>\n",
       "    <tr>\n",
       "      <th></th>\n",
       "      <th colspan=\"3\" halign=\"left\">debt</th>\n",
       "    </tr>\n",
       "    <tr>\n",
       "      <th></th>\n",
       "      <th>count</th>\n",
       "      <th>sum</th>\n",
       "      <th>mean</th>\n",
       "    </tr>\n",
       "    <tr>\n",
       "      <th>children</th>\n",
       "      <th></th>\n",
       "      <th></th>\n",
       "      <th></th>\n",
       "    </tr>\n",
       "  </thead>\n",
       "  <tbody>\n",
       "    <tr>\n",
       "      <th>0</th>\n",
       "      <td>14091</td>\n",
       "      <td>1063</td>\n",
       "      <td>0.075438</td>\n",
       "    </tr>\n",
       "    <tr>\n",
       "      <th>1</th>\n",
       "      <td>4808</td>\n",
       "      <td>444</td>\n",
       "      <td>0.092346</td>\n",
       "    </tr>\n",
       "    <tr>\n",
       "      <th>2</th>\n",
       "      <td>2052</td>\n",
       "      <td>194</td>\n",
       "      <td>0.094542</td>\n",
       "    </tr>\n",
       "    <tr>\n",
       "      <th>3</th>\n",
       "      <td>330</td>\n",
       "      <td>27</td>\n",
       "      <td>0.081818</td>\n",
       "    </tr>\n",
       "    <tr>\n",
       "      <th>4</th>\n",
       "      <td>41</td>\n",
       "      <td>4</td>\n",
       "      <td>0.097561</td>\n",
       "    </tr>\n",
       "    <tr>\n",
       "      <th>5</th>\n",
       "      <td>9</td>\n",
       "      <td>0</td>\n",
       "      <td>0.000000</td>\n",
       "    </tr>\n",
       "  </tbody>\n",
       "</table>\n",
       "</div>"
      ],
      "text/plain": [
       "           debt                \n",
       "          count   sum      mean\n",
       "children                       \n",
       "0         14091  1063  0.075438\n",
       "1          4808   444  0.092346\n",
       "2          2052   194  0.094542\n",
       "3           330    27  0.081818\n",
       "4            41     4  0.097561\n",
       "5             9     0  0.000000"
      ]
     },
     "execution_count": 48,
     "metadata": {},
     "output_type": "execute_result"
    }
   ],
   "source": [
    "data.groupby('children')[['debt']].agg(['count','sum','mean'])"
   ]
  },
  {
   "cell_type": "markdown",
   "id": "0d3449a5",
   "metadata": {},
   "source": [
    "На основании расчетов можно сделать вывод, что люди без детей исправнее олачивают задолженность по кредиту."
   ]
  },
  {
   "cell_type": "markdown",
   "id": "831af82d",
   "metadata": {},
   "source": [
    "**Задание 20. Есть ли зависимость между семейным положением и возвратом кредита в срок?**"
   ]
  },
  {
   "cell_type": "code",
   "execution_count": 27,
   "id": "93d6067b",
   "metadata": {},
   "outputs": [
    {
     "name": "stdout",
     "output_type": "stream",
     "text": [
      "0    7.560558\n",
      "1    9.313014\n",
      "2    6.624606\n",
      "3    7.064760\n",
      "4    9.763948\n",
      "Name: family_status_relationship, dtype: float64\n",
      "['женат / замужем' 'гражданский брак' 'вдовец / вдова' 'в разводе'\n",
      " 'Не женат / не замужем']\n",
      "[0 1 2 3 4]\n"
     ]
    },
    {
     "data": {
      "text/html": [
       "<div>\n",
       "<style scoped>\n",
       "    .dataframe tbody tr th:only-of-type {\n",
       "        vertical-align: middle;\n",
       "    }\n",
       "\n",
       "    .dataframe tbody tr th {\n",
       "        vertical-align: top;\n",
       "    }\n",
       "\n",
       "    .dataframe thead th {\n",
       "        text-align: right;\n",
       "    }\n",
       "</style>\n",
       "<table border=\"1\" class=\"dataframe\">\n",
       "  <thead>\n",
       "    <tr style=\"text-align: right;\">\n",
       "      <th></th>\n",
       "      <th>всего должников</th>\n",
       "      <th>mean</th>\n",
       "    </tr>\n",
       "    <tr>\n",
       "      <th>family_status</th>\n",
       "      <th></th>\n",
       "      <th></th>\n",
       "    </tr>\n",
       "  </thead>\n",
       "  <tbody>\n",
       "    <tr>\n",
       "      <th>вдовец / вдова</th>\n",
       "      <td>951</td>\n",
       "      <td>6.62%</td>\n",
       "    </tr>\n",
       "    <tr>\n",
       "      <th>в разводе</th>\n",
       "      <td>1189</td>\n",
       "      <td>7.06%</td>\n",
       "    </tr>\n",
       "    <tr>\n",
       "      <th>женат / замужем</th>\n",
       "      <td>12261</td>\n",
       "      <td>7.56%</td>\n",
       "    </tr>\n",
       "    <tr>\n",
       "      <th>гражданский брак</th>\n",
       "      <td>4134</td>\n",
       "      <td>9.31%</td>\n",
       "    </tr>\n",
       "    <tr>\n",
       "      <th>Не женат / не замужем</th>\n",
       "      <td>2796</td>\n",
       "      <td>9.76%</td>\n",
       "    </tr>\n",
       "  </tbody>\n",
       "</table>\n",
       "</div>"
      ],
      "text/plain": [
       "                       всего должников   mean\n",
       "family_status                                \n",
       "вдовец / вдова                     951  6.62%\n",
       "в разводе                         1189  7.06%\n",
       "женат / замужем                  12261  7.56%\n",
       "гражданский брак                  4134  9.31%\n",
       "Не женат / не замужем             2796  9.76%"
      ]
     },
     "execution_count": 27,
     "metadata": {},
     "output_type": "execute_result"
    }
   ],
   "source": [
    "data['family_status_relationship'] = data.groupby('family_status_id')['debt'].sum()/\\\n",
    "data.groupby('family_status_id')['debt'].count()\n",
    "print((data['family_status_relationship']*100).head())\n",
    "print(data['family_status'].unique())\n",
    "print(data['family_status_id'].unique())\n",
    "\n",
    "family_status_relationship = data.pivot_table(index = ['family_status'], values='debt', aggfunc=('mean', lambda x:\n",
    "                                                                                                 x.count()))\n",
    "\n",
    "def percent(x):\n",
    "    return '{0:.2%}'.format(x)\n",
    "\n",
    "family_status_relationship['mean'] = family_status_relationship['mean'].apply(percent)\n",
    "family_status_relationship = family_status_relationship.rename(columns={'<lambda_0>': 'всего должников'})\n",
    "family_status_relationship.sort_values('mean')"
   ]
  },
  {
   "cell_type": "code",
   "execution_count": 28,
   "id": "93e8c2fc",
   "metadata": {},
   "outputs": [],
   "source": [
    "def relation(category):\n",
    "    return data.groupby(category)['debt'].mean().to_frame().sort_values(by='debt')"
   ]
  },
  {
   "cell_type": "code",
   "execution_count": 29,
   "id": "da9186fe",
   "metadata": {},
   "outputs": [
    {
     "data": {
      "text/html": [
       "<div>\n",
       "<style scoped>\n",
       "    .dataframe tbody tr th:only-of-type {\n",
       "        vertical-align: middle;\n",
       "    }\n",
       "\n",
       "    .dataframe tbody tr th {\n",
       "        vertical-align: top;\n",
       "    }\n",
       "\n",
       "    .dataframe thead th {\n",
       "        text-align: right;\n",
       "    }\n",
       "</style>\n",
       "<table border=\"1\" class=\"dataframe\">\n",
       "  <thead>\n",
       "    <tr style=\"text-align: right;\">\n",
       "      <th></th>\n",
       "      <th>debt</th>\n",
       "    </tr>\n",
       "    <tr>\n",
       "      <th>family_status</th>\n",
       "      <th></th>\n",
       "    </tr>\n",
       "  </thead>\n",
       "  <tbody>\n",
       "    <tr>\n",
       "      <th>вдовец / вдова</th>\n",
       "      <td>0.066246</td>\n",
       "    </tr>\n",
       "    <tr>\n",
       "      <th>в разводе</th>\n",
       "      <td>0.070648</td>\n",
       "    </tr>\n",
       "    <tr>\n",
       "      <th>женат / замужем</th>\n",
       "      <td>0.075606</td>\n",
       "    </tr>\n",
       "    <tr>\n",
       "      <th>гражданский брак</th>\n",
       "      <td>0.093130</td>\n",
       "    </tr>\n",
       "    <tr>\n",
       "      <th>Не женат / не замужем</th>\n",
       "      <td>0.097639</td>\n",
       "    </tr>\n",
       "  </tbody>\n",
       "</table>\n",
       "</div>"
      ],
      "text/plain": [
       "                           debt\n",
       "family_status                  \n",
       "вдовец / вдова         0.066246\n",
       "в разводе              0.070648\n",
       "женат / замужем        0.075606\n",
       "гражданский брак       0.093130\n",
       "Не женат / не замужем  0.097639"
      ]
     },
     "execution_count": 29,
     "metadata": {},
     "output_type": "execute_result"
    }
   ],
   "source": [
    "relation('family_status')"
   ]
  },
  {
   "cell_type": "code",
   "execution_count": 43,
   "id": "a986c147",
   "metadata": {},
   "outputs": [
    {
     "data": {
      "text/html": [
       "<div>\n",
       "<style scoped>\n",
       "    .dataframe tbody tr th:only-of-type {\n",
       "        vertical-align: middle;\n",
       "    }\n",
       "\n",
       "    .dataframe tbody tr th {\n",
       "        vertical-align: top;\n",
       "    }\n",
       "\n",
       "    .dataframe thead tr th {\n",
       "        text-align: left;\n",
       "    }\n",
       "\n",
       "    .dataframe thead tr:last-of-type th {\n",
       "        text-align: right;\n",
       "    }\n",
       "</style>\n",
       "<table border=\"1\" class=\"dataframe\">\n",
       "  <thead>\n",
       "    <tr>\n",
       "      <th></th>\n",
       "      <th colspan=\"3\" halign=\"left\">debt</th>\n",
       "    </tr>\n",
       "    <tr>\n",
       "      <th></th>\n",
       "      <th>count</th>\n",
       "      <th>sum</th>\n",
       "      <th>mean</th>\n",
       "    </tr>\n",
       "    <tr>\n",
       "      <th>family_status</th>\n",
       "      <th></th>\n",
       "      <th></th>\n",
       "      <th></th>\n",
       "    </tr>\n",
       "  </thead>\n",
       "  <tbody>\n",
       "    <tr>\n",
       "      <th>Не женат / не замужем</th>\n",
       "      <td>2796</td>\n",
       "      <td>273</td>\n",
       "      <td>0.097639</td>\n",
       "    </tr>\n",
       "    <tr>\n",
       "      <th>в разводе</th>\n",
       "      <td>1189</td>\n",
       "      <td>84</td>\n",
       "      <td>0.070648</td>\n",
       "    </tr>\n",
       "    <tr>\n",
       "      <th>вдовец / вдова</th>\n",
       "      <td>951</td>\n",
       "      <td>63</td>\n",
       "      <td>0.066246</td>\n",
       "    </tr>\n",
       "    <tr>\n",
       "      <th>гражданский брак</th>\n",
       "      <td>4134</td>\n",
       "      <td>385</td>\n",
       "      <td>0.093130</td>\n",
       "    </tr>\n",
       "    <tr>\n",
       "      <th>женат / замужем</th>\n",
       "      <td>12261</td>\n",
       "      <td>927</td>\n",
       "      <td>0.075606</td>\n",
       "    </tr>\n",
       "  </tbody>\n",
       "</table>\n",
       "</div>"
      ],
      "text/plain": [
       "                        debt               \n",
       "                       count  sum      mean\n",
       "family_status                              \n",
       "Не женат / не замужем   2796  273  0.097639\n",
       "в разводе               1189   84  0.070648\n",
       "вдовец / вдова           951   63  0.066246\n",
       "гражданский брак        4134  385  0.093130\n",
       "женат / замужем        12261  927  0.075606"
      ]
     },
     "execution_count": 43,
     "metadata": {},
     "output_type": "execute_result"
    }
   ],
   "source": [
    "data.groupby('family_status')[['debt']].agg(['count','sum','mean'])"
   ]
  },
  {
   "cell_type": "markdown",
   "id": "c740116e",
   "metadata": {},
   "source": [
    "Исходя из рассчетов видно, что наиболее ответственными плательщиками являются вдовы/вдовцы и люди в разводе. Моя гепотиза, что ответственность зависит от возраста плательщика."
   ]
  },
  {
   "cell_type": "markdown",
   "id": "74c06c18",
   "metadata": {},
   "source": [
    "**Задание 21. Есть ли зависимость между уровнем дохода и возвратом кредита в срок?**"
   ]
  },
  {
   "cell_type": "code",
   "execution_count": 31,
   "id": "8a9ee353",
   "metadata": {},
   "outputs": [
    {
     "data": {
      "text/html": [
       "<div>\n",
       "<style scoped>\n",
       "    .dataframe tbody tr th:only-of-type {\n",
       "        vertical-align: middle;\n",
       "    }\n",
       "\n",
       "    .dataframe tbody tr th {\n",
       "        vertical-align: top;\n",
       "    }\n",
       "\n",
       "    .dataframe thead th {\n",
       "        text-align: right;\n",
       "    }\n",
       "</style>\n",
       "<table border=\"1\" class=\"dataframe\">\n",
       "  <thead>\n",
       "    <tr style=\"text-align: right;\">\n",
       "      <th></th>\n",
       "      <th>всего должников</th>\n",
       "      <th>mean</th>\n",
       "    </tr>\n",
       "    <tr>\n",
       "      <th>total_income_category</th>\n",
       "      <th></th>\n",
       "      <th></th>\n",
       "    </tr>\n",
       "  </thead>\n",
       "  <tbody>\n",
       "    <tr>\n",
       "      <th>D</th>\n",
       "      <td>349</td>\n",
       "      <td>6.02%</td>\n",
       "    </tr>\n",
       "    <tr>\n",
       "      <th>B</th>\n",
       "      <td>5014</td>\n",
       "      <td>7.06%</td>\n",
       "    </tr>\n",
       "    <tr>\n",
       "      <th>A</th>\n",
       "      <td>25</td>\n",
       "      <td>8.00%</td>\n",
       "    </tr>\n",
       "    <tr>\n",
       "      <th>C</th>\n",
       "      <td>15921</td>\n",
       "      <td>8.50%</td>\n",
       "    </tr>\n",
       "    <tr>\n",
       "      <th>E</th>\n",
       "      <td>22</td>\n",
       "      <td>9.09%</td>\n",
       "    </tr>\n",
       "  </tbody>\n",
       "</table>\n",
       "</div>"
      ],
      "text/plain": [
       "                       всего должников   mean\n",
       "total_income_category                        \n",
       "D                                  349  6.02%\n",
       "B                                 5014  7.06%\n",
       "A                                   25  8.00%\n",
       "C                                15921  8.50%\n",
       "E                                   22  9.09%"
      ]
     },
     "execution_count": 31,
     "metadata": {},
     "output_type": "execute_result"
    }
   ],
   "source": [
    "total_income_relationship = data.pivot_table(index= ['total_income_category'], values='debt', aggfunc=('mean', lambda x:\n",
    "                                                                                             x.count()))\n",
    "def percent(x):\n",
    "    return '{0:.2%}'.format(x)\n",
    "\n",
    "total_income_relationship['mean'] = total_income_relationship['mean'].apply(percent)\n",
    "total_income_relationship = total_income_relationship.rename(columns={'<lambda_0>': 'всего должников'})\n",
    "total_income_relationship.sort_values('mean')"
   ]
  },
  {
   "cell_type": "code",
   "execution_count": 32,
   "id": "c4ec12cc",
   "metadata": {},
   "outputs": [],
   "source": [
    "def relation(category):\n",
    "    return data.groupby(category)['debt'].mean().to_frame().sort_values(by='debt')"
   ]
  },
  {
   "cell_type": "code",
   "execution_count": 33,
   "id": "160cd1ca",
   "metadata": {},
   "outputs": [
    {
     "data": {
      "text/html": [
       "<div>\n",
       "<style scoped>\n",
       "    .dataframe tbody tr th:only-of-type {\n",
       "        vertical-align: middle;\n",
       "    }\n",
       "\n",
       "    .dataframe tbody tr th {\n",
       "        vertical-align: top;\n",
       "    }\n",
       "\n",
       "    .dataframe thead th {\n",
       "        text-align: right;\n",
       "    }\n",
       "</style>\n",
       "<table border=\"1\" class=\"dataframe\">\n",
       "  <thead>\n",
       "    <tr style=\"text-align: right;\">\n",
       "      <th></th>\n",
       "      <th>debt</th>\n",
       "    </tr>\n",
       "    <tr>\n",
       "      <th>total_income_category</th>\n",
       "      <th></th>\n",
       "    </tr>\n",
       "  </thead>\n",
       "  <tbody>\n",
       "    <tr>\n",
       "      <th>D</th>\n",
       "      <td>0.060172</td>\n",
       "    </tr>\n",
       "    <tr>\n",
       "      <th>B</th>\n",
       "      <td>0.070602</td>\n",
       "    </tr>\n",
       "    <tr>\n",
       "      <th>A</th>\n",
       "      <td>0.080000</td>\n",
       "    </tr>\n",
       "    <tr>\n",
       "      <th>C</th>\n",
       "      <td>0.084982</td>\n",
       "    </tr>\n",
       "    <tr>\n",
       "      <th>E</th>\n",
       "      <td>0.090909</td>\n",
       "    </tr>\n",
       "  </tbody>\n",
       "</table>\n",
       "</div>"
      ],
      "text/plain": [
       "                           debt\n",
       "total_income_category          \n",
       "D                      0.060172\n",
       "B                      0.070602\n",
       "A                      0.080000\n",
       "C                      0.084982\n",
       "E                      0.090909"
      ]
     },
     "execution_count": 33,
     "metadata": {},
     "output_type": "execute_result"
    }
   ],
   "source": [
    "relation('total_income_category')"
   ]
  },
  {
   "cell_type": "code",
   "execution_count": 42,
   "id": "6e9636d9",
   "metadata": {},
   "outputs": [
    {
     "data": {
      "text/html": [
       "<div>\n",
       "<style scoped>\n",
       "    .dataframe tbody tr th:only-of-type {\n",
       "        vertical-align: middle;\n",
       "    }\n",
       "\n",
       "    .dataframe tbody tr th {\n",
       "        vertical-align: top;\n",
       "    }\n",
       "\n",
       "    .dataframe thead tr th {\n",
       "        text-align: left;\n",
       "    }\n",
       "\n",
       "    .dataframe thead tr:last-of-type th {\n",
       "        text-align: right;\n",
       "    }\n",
       "</style>\n",
       "<table border=\"1\" class=\"dataframe\">\n",
       "  <thead>\n",
       "    <tr>\n",
       "      <th></th>\n",
       "      <th colspan=\"3\" halign=\"left\">debt</th>\n",
       "    </tr>\n",
       "    <tr>\n",
       "      <th></th>\n",
       "      <th>count</th>\n",
       "      <th>sum</th>\n",
       "      <th>mean</th>\n",
       "    </tr>\n",
       "    <tr>\n",
       "      <th>total_income_category</th>\n",
       "      <th></th>\n",
       "      <th></th>\n",
       "      <th></th>\n",
       "    </tr>\n",
       "  </thead>\n",
       "  <tbody>\n",
       "    <tr>\n",
       "      <th>A</th>\n",
       "      <td>25</td>\n",
       "      <td>2</td>\n",
       "      <td>0.080000</td>\n",
       "    </tr>\n",
       "    <tr>\n",
       "      <th>B</th>\n",
       "      <td>5014</td>\n",
       "      <td>354</td>\n",
       "      <td>0.070602</td>\n",
       "    </tr>\n",
       "    <tr>\n",
       "      <th>C</th>\n",
       "      <td>15921</td>\n",
       "      <td>1353</td>\n",
       "      <td>0.084982</td>\n",
       "    </tr>\n",
       "    <tr>\n",
       "      <th>D</th>\n",
       "      <td>349</td>\n",
       "      <td>21</td>\n",
       "      <td>0.060172</td>\n",
       "    </tr>\n",
       "    <tr>\n",
       "      <th>E</th>\n",
       "      <td>22</td>\n",
       "      <td>2</td>\n",
       "      <td>0.090909</td>\n",
       "    </tr>\n",
       "  </tbody>\n",
       "</table>\n",
       "</div>"
      ],
      "text/plain": [
       "                        debt                \n",
       "                       count   sum      mean\n",
       "total_income_category                       \n",
       "A                         25     2  0.080000\n",
       "B                       5014   354  0.070602\n",
       "C                      15921  1353  0.084982\n",
       "D                        349    21  0.060172\n",
       "E                         22     2  0.090909"
      ]
     },
     "execution_count": 42,
     "metadata": {},
     "output_type": "execute_result"
    }
   ],
   "source": [
    "data.groupby('total_income_category')[['debt']].agg(['count','sum','mean'])"
   ]
  },
  {
   "cell_type": "markdown",
   "id": "b62282c4",
   "metadata": {},
   "source": [
    "На оснавании полученных данных, можно сделать вывод по категориям плательщиков\n",
    "\n",
    "0–30000 — 'E' - платят хуже всех\n",
    "\n",
    "30001–50000 — 'D' - находятся на первом месте по надежности, рассчитывают на повторное одобрение кредита\n",
    "\n",
    "50001–200000 — 'C'- показатели близки к категории 'E'\n",
    "\n",
    "200001–1000000 — 'B'- показатели выше среднего\n",
    "\n",
    "1000001 и выше — 'A'- средние показатели"
   ]
  },
  {
   "cell_type": "markdown",
   "id": "330d5d37",
   "metadata": {},
   "source": [
    "**Задание 22. Как разные цели кредита влияют на его возврат в срок?**"
   ]
  },
  {
   "cell_type": "code",
   "execution_count": 35,
   "id": "2f9be404",
   "metadata": {},
   "outputs": [
    {
     "data": {
      "text/html": [
       "<div>\n",
       "<style scoped>\n",
       "    .dataframe tbody tr th:only-of-type {\n",
       "        vertical-align: middle;\n",
       "    }\n",
       "\n",
       "    .dataframe tbody tr th {\n",
       "        vertical-align: top;\n",
       "    }\n",
       "\n",
       "    .dataframe thead th {\n",
       "        text-align: right;\n",
       "    }\n",
       "</style>\n",
       "<table border=\"1\" class=\"dataframe\">\n",
       "  <thead>\n",
       "    <tr style=\"text-align: right;\">\n",
       "      <th></th>\n",
       "      <th>всего должников</th>\n",
       "      <th>mean</th>\n",
       "    </tr>\n",
       "    <tr>\n",
       "      <th>purpose_category</th>\n",
       "      <th></th>\n",
       "      <th></th>\n",
       "    </tr>\n",
       "  </thead>\n",
       "  <tbody>\n",
       "    <tr>\n",
       "      <th>операции с недвижимостью</th>\n",
       "      <td>10751</td>\n",
       "      <td>7.26%</td>\n",
       "    </tr>\n",
       "    <tr>\n",
       "      <th>проведение свадьбы</th>\n",
       "      <td>2313</td>\n",
       "      <td>7.91%</td>\n",
       "    </tr>\n",
       "    <tr>\n",
       "      <th>получение образования</th>\n",
       "      <td>3988</td>\n",
       "      <td>9.25%</td>\n",
       "    </tr>\n",
       "    <tr>\n",
       "      <th>операции с автомобилем</th>\n",
       "      <td>4279</td>\n",
       "      <td>9.35%</td>\n",
       "    </tr>\n",
       "  </tbody>\n",
       "</table>\n",
       "</div>"
      ],
      "text/plain": [
       "                          всего должников   mean\n",
       "purpose_category                                \n",
       "операции с недвижимостью            10751  7.26%\n",
       "проведение свадьбы                   2313  7.91%\n",
       "получение образования                3988  9.25%\n",
       "операции с автомобилем               4279  9.35%"
      ]
     },
     "execution_count": 35,
     "metadata": {},
     "output_type": "execute_result"
    }
   ],
   "source": [
    "purpose_category_relationship = data.pivot_table(index= ['purpose_category'], values='debt', aggfunc=('mean', lambda x:\n",
    "                                                                                                      x.count()))\n",
    "def percent(x):\n",
    "    return '{0:.2%}'.format(x)\n",
    "\n",
    "purpose_category_relationship['mean'] = purpose_category_relationship['mean'].apply(percent)\n",
    "purpose_category_relationship = purpose_category_relationship.rename(columns={'<lambda_0>': 'всего должников'})\n",
    "purpose_category_relationship.sort_values('mean')"
   ]
  },
  {
   "cell_type": "code",
   "execution_count": 36,
   "id": "dc033f6d",
   "metadata": {},
   "outputs": [],
   "source": [
    "def relation(category):\n",
    "    return data.groupby(category)['debt'].mean().to_frame().sort_values(by='debt')"
   ]
  },
  {
   "cell_type": "code",
   "execution_count": 37,
   "id": "9e316f25",
   "metadata": {},
   "outputs": [
    {
     "data": {
      "text/html": [
       "<div>\n",
       "<style scoped>\n",
       "    .dataframe tbody tr th:only-of-type {\n",
       "        vertical-align: middle;\n",
       "    }\n",
       "\n",
       "    .dataframe tbody tr th {\n",
       "        vertical-align: top;\n",
       "    }\n",
       "\n",
       "    .dataframe thead th {\n",
       "        text-align: right;\n",
       "    }\n",
       "</style>\n",
       "<table border=\"1\" class=\"dataframe\">\n",
       "  <thead>\n",
       "    <tr style=\"text-align: right;\">\n",
       "      <th></th>\n",
       "      <th>debt</th>\n",
       "    </tr>\n",
       "    <tr>\n",
       "      <th>purpose_category</th>\n",
       "      <th></th>\n",
       "    </tr>\n",
       "  </thead>\n",
       "  <tbody>\n",
       "    <tr>\n",
       "      <th>операции с недвижимостью</th>\n",
       "      <td>0.072551</td>\n",
       "    </tr>\n",
       "    <tr>\n",
       "      <th>проведение свадьбы</th>\n",
       "      <td>0.079118</td>\n",
       "    </tr>\n",
       "    <tr>\n",
       "      <th>получение образования</th>\n",
       "      <td>0.092528</td>\n",
       "    </tr>\n",
       "    <tr>\n",
       "      <th>операции с автомобилем</th>\n",
       "      <td>0.093480</td>\n",
       "    </tr>\n",
       "  </tbody>\n",
       "</table>\n",
       "</div>"
      ],
      "text/plain": [
       "                              debt\n",
       "purpose_category                  \n",
       "операции с недвижимостью  0.072551\n",
       "проведение свадьбы        0.079118\n",
       "получение образования     0.092528\n",
       "операции с автомобилем    0.093480"
      ]
     },
     "execution_count": 37,
     "metadata": {},
     "output_type": "execute_result"
    }
   ],
   "source": [
    "relation('purpose_category')"
   ]
  },
  {
   "cell_type": "code",
   "execution_count": 40,
   "id": "6ffeef6b",
   "metadata": {},
   "outputs": [
    {
     "data": {
      "text/html": [
       "<div>\n",
       "<style scoped>\n",
       "    .dataframe tbody tr th:only-of-type {\n",
       "        vertical-align: middle;\n",
       "    }\n",
       "\n",
       "    .dataframe tbody tr th {\n",
       "        vertical-align: top;\n",
       "    }\n",
       "\n",
       "    .dataframe thead tr th {\n",
       "        text-align: left;\n",
       "    }\n",
       "\n",
       "    .dataframe thead tr:last-of-type th {\n",
       "        text-align: right;\n",
       "    }\n",
       "</style>\n",
       "<table border=\"1\" class=\"dataframe\">\n",
       "  <thead>\n",
       "    <tr>\n",
       "      <th></th>\n",
       "      <th colspan=\"3\" halign=\"left\">debt</th>\n",
       "    </tr>\n",
       "    <tr>\n",
       "      <th></th>\n",
       "      <th>count</th>\n",
       "      <th>sum</th>\n",
       "      <th>mean</th>\n",
       "    </tr>\n",
       "    <tr>\n",
       "      <th>purpose_category</th>\n",
       "      <th></th>\n",
       "      <th></th>\n",
       "      <th></th>\n",
       "    </tr>\n",
       "  </thead>\n",
       "  <tbody>\n",
       "    <tr>\n",
       "      <th>операции с автомобилем</th>\n",
       "      <td>4279</td>\n",
       "      <td>400</td>\n",
       "      <td>0.093480</td>\n",
       "    </tr>\n",
       "    <tr>\n",
       "      <th>операции с недвижимостью</th>\n",
       "      <td>10751</td>\n",
       "      <td>780</td>\n",
       "      <td>0.072551</td>\n",
       "    </tr>\n",
       "    <tr>\n",
       "      <th>получение образования</th>\n",
       "      <td>3988</td>\n",
       "      <td>369</td>\n",
       "      <td>0.092528</td>\n",
       "    </tr>\n",
       "    <tr>\n",
       "      <th>проведение свадьбы</th>\n",
       "      <td>2313</td>\n",
       "      <td>183</td>\n",
       "      <td>0.079118</td>\n",
       "    </tr>\n",
       "  </tbody>\n",
       "</table>\n",
       "</div>"
      ],
      "text/plain": [
       "                           debt               \n",
       "                          count  sum      mean\n",
       "purpose_category                              \n",
       "операции с автомобилем     4279  400  0.093480\n",
       "операции с недвижимостью  10751  780  0.072551\n",
       "получение образования      3988  369  0.092528\n",
       "проведение свадьбы         2313  183  0.079118"
      ]
     },
     "execution_count": 40,
     "metadata": {},
     "output_type": "execute_result"
    }
   ],
   "source": [
    "data.groupby('purpose_category')[['debt']].agg(['count','sum','mean'])"
   ]
  },
  {
   "cell_type": "markdown",
   "id": "451e4111",
   "metadata": {},
   "source": [
    "Категориями, имеющие наилучшие показатели, являются: операции с недвижимостью и проведение свадьбы. "
   ]
  },
  {
   "cell_type": "markdown",
   "id": "1acd0d9e",
   "metadata": {},
   "source": [
    "Ипотека это серьезное долгосрочное и дорогостоющее решение, требующее ответственного подхода.\n",
    "\n",
    "Чтобы получить ссуду необходимо изначально соответствовать требованиям банка."
   ]
  },
  {
   "cell_type": "markdown",
   "id": "b6106f98",
   "metadata": {},
   "source": [
    "***Задание 23. Приведите возможные причины появления пропусков в исходных данных.***"
   ]
  },
  {
   "cell_type": "markdown",
   "id": "8b51ba6a",
   "metadata": {},
   "source": [
    "Неправильный ввод\n",
    "\n",
    "Техническая неисправность\n",
    "\n",
    "Сокрытие информации"
   ]
  },
  {
   "cell_type": "markdown",
   "id": "559ae289",
   "metadata": {},
   "source": [
    "Если ввод данных осуществляется пользователем, то информация может быть пропущена намеренно"
   ]
  },
  {
   "cell_type": "markdown",
   "id": "2471483c",
   "metadata": {},
   "source": [
    "**Задание 24. Объясните, почему заполнить пропуски медианным значением — лучшее решение для количественных переменных.**"
   ]
  },
  {
   "cell_type": "markdown",
   "id": "2de7f2b9",
   "metadata": {},
   "source": [
    "За отсутствием иного способа восполнить отсутствующие данные, заполнение медианными значениями позволяет сохранить строки таблицы и получить приближенные к реальности данные.Хотя применение этих методов может приводить к существенному искажению статистических свойств набора данных."
   ]
  },
  {
   "cell_type": "markdown",
   "id": "33678086",
   "metadata": {},
   "source": [
    "Медиана используется, когда между максимальным и минимальными значениями выборки слишком большая разница.\n",
    "\n",
    "Чиновники едят мясо, я — капусту. В среднем мы едим голубцы.\n",
    "\n",
    "Если считать при момощи медианы, получим иной результат"
   ]
  },
  {
   "cell_type": "markdown",
   "id": "d185d3c6",
   "metadata": {},
   "source": [
    "## Вывод"
   ]
  },
  {
   "cell_type": "markdown",
   "id": "ce4f2a61",
   "metadata": {},
   "source": [
    "**В ходе выполнения данной исследовательской работы мной были сделаны следующие преобразования датафрейма:**\n",
    "\n",
    "Удаление пропусков\n",
    "\n",
    "Обработка аномальных значений\n",
    "\n",
    "Изменение типов данных\n",
    "\n",
    "Обработка дубликатов\n",
    "\n",
    "**После чего были произведены следующие вычисления:**\n",
    "\n",
    "Зависимость количества детей и возврата кредита в срок\n",
    "\n",
    "**min:** 0 детей 7,54% ,\n",
    "\n",
    "**max:** 4 ребенка 9,76%.\n",
    "\n",
    "Зависимость между семейным положением и возвратом кредита в срок\n",
    "\n",
    "**min:** вдовец/вдова 6,62% ,\n",
    "\n",
    "**max:** Не женат / не замужем9,76%.\n",
    "\n",
    "Зависимость между уровнем дохода и возвратом кредита в срок\n",
    "\n",
    "**min:** категория D 6,02% ,\n",
    "\n",
    "**max:** категория E 9,09%.\n",
    "\n",
    "Зависимость между целью кредита и возвратом кредита в срок\n",
    "\n",
    "**min:** операции с недвижимостью 7,26% ,\n",
    "\n",
    "**max:** операции с автомобилем 9,35%.\n",
    "\n",
    "**Исходя из результатов вычислений можно составить портрет идеального клиента:**\n",
    "\n",
    "Клент - бездетный вдовец либо в разводе, имеет доход выше среднего, заинтресован в приобретении недвижимости."
   ]
  }
 ],
 "metadata": {
  "ExecuteTimeLog": [
   {
    "duration": 49,
    "start_time": "2023-02-01T15:35:11.665Z"
   },
   {
    "duration": 7,
    "start_time": "2023-02-01T15:35:23.838Z"
   },
   {
    "duration": 416,
    "start_time": "2023-02-01T15:35:37.514Z"
   },
   {
    "duration": 304,
    "start_time": "2023-02-01T15:35:37.932Z"
   },
   {
    "duration": 11,
    "start_time": "2023-02-01T15:35:38.238Z"
   },
   {
    "duration": 17,
    "start_time": "2023-02-01T15:35:38.252Z"
   },
   {
    "duration": 11,
    "start_time": "2023-02-01T15:37:08.836Z"
   },
   {
    "duration": 5,
    "start_time": "2023-02-01T15:37:19.342Z"
   },
   {
    "duration": 11,
    "start_time": "2023-02-01T15:41:53.912Z"
   },
   {
    "duration": 9,
    "start_time": "2023-02-01T15:42:19.415Z"
   },
   {
    "duration": 63,
    "start_time": "2023-02-02T11:27:30.987Z"
   },
   {
    "duration": 408,
    "start_time": "2023-02-02T11:28:08.677Z"
   },
   {
    "duration": 335,
    "start_time": "2023-02-02T11:28:09.086Z"
   },
   {
    "duration": 10,
    "start_time": "2023-02-02T11:28:09.422Z"
   },
   {
    "duration": 18,
    "start_time": "2023-02-02T11:28:09.434Z"
   },
   {
    "duration": 18,
    "start_time": "2023-02-02T11:28:09.454Z"
   },
   {
    "duration": 6,
    "start_time": "2023-02-02T11:28:09.474Z"
   },
   {
    "duration": 32,
    "start_time": "2023-02-02T11:37:11.681Z"
   },
   {
    "duration": 10,
    "start_time": "2023-02-02T11:37:47.318Z"
   },
   {
    "duration": 9,
    "start_time": "2023-02-02T11:37:58.676Z"
   },
   {
    "duration": 13,
    "start_time": "2023-02-02T11:38:16.927Z"
   },
   {
    "duration": 13,
    "start_time": "2023-02-02T11:38:27.097Z"
   },
   {
    "duration": 36,
    "start_time": "2023-02-02T11:42:44.097Z"
   },
   {
    "duration": 35,
    "start_time": "2023-02-02T11:42:49.116Z"
   },
   {
    "duration": 33,
    "start_time": "2023-02-02T11:43:43.141Z"
   },
   {
    "duration": 7,
    "start_time": "2023-02-02T16:41:45.419Z"
   },
   {
    "duration": 6,
    "start_time": "2023-02-02T16:55:47.929Z"
   },
   {
    "duration": 9,
    "start_time": "2023-02-02T16:55:54.252Z"
   },
   {
    "duration": 433,
    "start_time": "2023-02-02T16:56:33.021Z"
   },
   {
    "duration": 117,
    "start_time": "2023-02-02T16:56:33.456Z"
   },
   {
    "duration": 12,
    "start_time": "2023-02-02T16:56:33.575Z"
   },
   {
    "duration": 25,
    "start_time": "2023-02-02T16:56:33.588Z"
   },
   {
    "duration": 26,
    "start_time": "2023-02-02T16:56:33.616Z"
   },
   {
    "duration": 44,
    "start_time": "2023-02-02T16:56:33.644Z"
   },
   {
    "duration": 4,
    "start_time": "2023-02-02T16:56:33.689Z"
   },
   {
    "duration": 16,
    "start_time": "2023-02-02T16:56:33.695Z"
   },
   {
    "duration": 5,
    "start_time": "2023-02-02T16:56:33.713Z"
   },
   {
    "duration": 15,
    "start_time": "2023-02-02T16:56:33.719Z"
   },
   {
    "duration": 11,
    "start_time": "2023-02-02T16:56:33.736Z"
   },
   {
    "duration": 12,
    "start_time": "2023-02-02T16:56:33.749Z"
   },
   {
    "duration": 15,
    "start_time": "2023-02-02T16:56:33.762Z"
   },
   {
    "duration": 9,
    "start_time": "2023-02-02T16:56:33.780Z"
   },
   {
    "duration": 9,
    "start_time": "2023-02-02T16:56:33.790Z"
   },
   {
    "duration": 17,
    "start_time": "2023-02-02T16:56:33.801Z"
   },
   {
    "duration": 12,
    "start_time": "2023-02-02T16:56:33.820Z"
   },
   {
    "duration": 12,
    "start_time": "2023-02-02T16:56:33.834Z"
   },
   {
    "duration": 9,
    "start_time": "2023-02-02T16:56:33.848Z"
   },
   {
    "duration": 13,
    "start_time": "2023-02-02T16:56:33.859Z"
   },
   {
    "duration": 15,
    "start_time": "2023-02-02T16:56:33.874Z"
   },
   {
    "duration": 10,
    "start_time": "2023-02-02T16:56:33.891Z"
   },
   {
    "duration": 3,
    "start_time": "2023-02-02T17:43:59.142Z"
   },
   {
    "duration": 3,
    "start_time": "2023-02-02T17:44:14.788Z"
   },
   {
    "duration": 5,
    "start_time": "2023-02-02T17:44:34.630Z"
   },
   {
    "duration": 4,
    "start_time": "2023-02-02T17:44:39.955Z"
   },
   {
    "duration": 6,
    "start_time": "2023-02-02T17:44:49.621Z"
   },
   {
    "duration": 13,
    "start_time": "2023-02-02T17:45:28.803Z"
   },
   {
    "duration": 5,
    "start_time": "2023-02-02T17:45:37.017Z"
   },
   {
    "duration": 4,
    "start_time": "2023-02-02T17:45:58.627Z"
   },
   {
    "duration": 6,
    "start_time": "2023-02-02T17:51:29.426Z"
   },
   {
    "duration": 7,
    "start_time": "2023-02-02T17:51:45.556Z"
   },
   {
    "duration": 5,
    "start_time": "2023-02-02T17:52:17.863Z"
   },
   {
    "duration": 4,
    "start_time": "2023-02-02T17:53:27.008Z"
   },
   {
    "duration": 6,
    "start_time": "2023-02-02T17:53:35.872Z"
   },
   {
    "duration": 5,
    "start_time": "2023-02-02T17:53:42.026Z"
   },
   {
    "duration": 4,
    "start_time": "2023-02-02T17:56:16.126Z"
   },
   {
    "duration": 29,
    "start_time": "2023-02-02T18:00:35.456Z"
   },
   {
    "duration": 403,
    "start_time": "2023-02-02T18:03:07.662Z"
   },
   {
    "duration": 74,
    "start_time": "2023-02-02T18:03:08.067Z"
   },
   {
    "duration": 11,
    "start_time": "2023-02-02T18:03:08.143Z"
   },
   {
    "duration": 31,
    "start_time": "2023-02-02T18:03:08.157Z"
   },
   {
    "duration": 21,
    "start_time": "2023-02-02T18:03:08.191Z"
   },
   {
    "duration": 49,
    "start_time": "2023-02-02T18:03:08.214Z"
   },
   {
    "duration": 3,
    "start_time": "2023-02-02T18:03:08.267Z"
   },
   {
    "duration": 11,
    "start_time": "2023-02-02T18:03:08.271Z"
   },
   {
    "duration": 5,
    "start_time": "2023-02-02T18:03:08.283Z"
   },
   {
    "duration": 17,
    "start_time": "2023-02-02T18:03:08.291Z"
   },
   {
    "duration": 11,
    "start_time": "2023-02-02T18:03:08.310Z"
   },
   {
    "duration": 4,
    "start_time": "2023-02-02T18:03:08.323Z"
   },
   {
    "duration": 5,
    "start_time": "2023-02-02T18:03:08.349Z"
   },
   {
    "duration": 6,
    "start_time": "2023-02-02T18:03:08.356Z"
   },
   {
    "duration": 8,
    "start_time": "2023-02-02T18:03:08.364Z"
   },
   {
    "duration": 6,
    "start_time": "2023-02-02T18:03:08.373Z"
   },
   {
    "duration": 5,
    "start_time": "2023-02-02T18:03:08.380Z"
   },
   {
    "duration": 7,
    "start_time": "2023-02-02T18:03:08.387Z"
   },
   {
    "duration": 7,
    "start_time": "2023-02-02T18:03:08.396Z"
   },
   {
    "duration": 8,
    "start_time": "2023-02-02T18:03:08.406Z"
   },
   {
    "duration": 5,
    "start_time": "2023-02-02T18:03:08.416Z"
   },
   {
    "duration": 6,
    "start_time": "2023-02-02T18:03:08.424Z"
   },
   {
    "duration": 14,
    "start_time": "2023-02-03T12:00:24.924Z"
   },
   {
    "duration": 11,
    "start_time": "2023-02-03T12:00:41.329Z"
   },
   {
    "duration": 17,
    "start_time": "2023-02-03T12:02:31.368Z"
   },
   {
    "duration": 80,
    "start_time": "2023-02-03T12:20:16.521Z"
   },
   {
    "duration": 15,
    "start_time": "2023-02-03T12:20:30.137Z"
   },
   {
    "duration": 113,
    "start_time": "2023-02-03T12:23:36.030Z"
   },
   {
    "duration": 18,
    "start_time": "2023-02-03T12:23:42.195Z"
   },
   {
    "duration": 17,
    "start_time": "2023-02-03T12:25:45.494Z"
   },
   {
    "duration": 18,
    "start_time": "2023-02-03T12:25:53.582Z"
   },
   {
    "duration": 15,
    "start_time": "2023-02-03T12:26:23.079Z"
   },
   {
    "duration": 395,
    "start_time": "2023-02-03T14:22:11.232Z"
   },
   {
    "duration": 126,
    "start_time": "2023-02-03T14:22:11.629Z"
   },
   {
    "duration": 10,
    "start_time": "2023-02-03T14:22:11.756Z"
   },
   {
    "duration": 13,
    "start_time": "2023-02-03T14:22:11.769Z"
   },
   {
    "duration": 12,
    "start_time": "2023-02-03T14:22:11.783Z"
   },
   {
    "duration": 44,
    "start_time": "2023-02-03T14:22:11.797Z"
   },
   {
    "duration": 3,
    "start_time": "2023-02-03T14:22:11.842Z"
   },
   {
    "duration": 9,
    "start_time": "2023-02-03T14:22:11.847Z"
   },
   {
    "duration": 4,
    "start_time": "2023-02-03T14:22:11.858Z"
   },
   {
    "duration": 10,
    "start_time": "2023-02-03T14:22:11.864Z"
   },
   {
    "duration": 4,
    "start_time": "2023-02-03T14:22:11.876Z"
   },
   {
    "duration": 57,
    "start_time": "2023-02-03T14:22:11.881Z"
   },
   {
    "duration": 9,
    "start_time": "2023-02-03T14:22:11.940Z"
   },
   {
    "duration": 6,
    "start_time": "2023-02-03T14:22:11.951Z"
   },
   {
    "duration": 14,
    "start_time": "2023-02-03T14:22:11.959Z"
   },
   {
    "duration": 19,
    "start_time": "2023-02-03T14:22:11.975Z"
   },
   {
    "duration": 44,
    "start_time": "2023-02-03T14:22:11.996Z"
   },
   {
    "duration": 4,
    "start_time": "2023-02-03T14:22:12.042Z"
   },
   {
    "duration": 255,
    "start_time": "2023-02-03T14:22:12.048Z"
   },
   {
    "duration": 0,
    "start_time": "2023-02-03T14:22:12.305Z"
   },
   {
    "duration": 0,
    "start_time": "2023-02-03T14:22:12.306Z"
   },
   {
    "duration": 0,
    "start_time": "2023-02-03T14:22:12.307Z"
   },
   {
    "duration": 41,
    "start_time": "2023-02-03T14:26:50.457Z"
   },
   {
    "duration": 48,
    "start_time": "2023-02-03T14:27:22.158Z"
   },
   {
    "duration": 3,
    "start_time": "2023-02-03T14:31:11.708Z"
   },
   {
    "duration": 3,
    "start_time": "2023-02-03T14:31:20.136Z"
   },
   {
    "duration": 388,
    "start_time": "2023-02-03T14:34:11.628Z"
   },
   {
    "duration": 65,
    "start_time": "2023-02-03T14:34:12.018Z"
   },
   {
    "duration": 9,
    "start_time": "2023-02-03T14:34:12.085Z"
   },
   {
    "duration": 15,
    "start_time": "2023-02-03T14:34:12.096Z"
   },
   {
    "duration": 27,
    "start_time": "2023-02-03T14:34:12.114Z"
   },
   {
    "duration": 31,
    "start_time": "2023-02-03T14:34:12.143Z"
   },
   {
    "duration": 3,
    "start_time": "2023-02-03T14:34:12.176Z"
   },
   {
    "duration": 11,
    "start_time": "2023-02-03T14:34:12.180Z"
   },
   {
    "duration": 4,
    "start_time": "2023-02-03T14:34:12.192Z"
   },
   {
    "duration": 9,
    "start_time": "2023-02-03T14:34:12.198Z"
   },
   {
    "duration": 3,
    "start_time": "2023-02-03T14:34:12.209Z"
   },
   {
    "duration": 34,
    "start_time": "2023-02-03T14:34:12.236Z"
   },
   {
    "duration": 8,
    "start_time": "2023-02-03T14:34:12.272Z"
   },
   {
    "duration": 7,
    "start_time": "2023-02-03T14:34:12.282Z"
   },
   {
    "duration": 11,
    "start_time": "2023-02-03T14:34:12.291Z"
   },
   {
    "duration": 40,
    "start_time": "2023-02-03T14:34:12.303Z"
   },
   {
    "duration": 20,
    "start_time": "2023-02-03T14:34:12.345Z"
   },
   {
    "duration": 4,
    "start_time": "2023-02-03T14:34:12.367Z"
   },
   {
    "duration": 290,
    "start_time": "2023-02-03T14:34:12.372Z"
   },
   {
    "duration": 0,
    "start_time": "2023-02-03T14:34:12.663Z"
   },
   {
    "duration": 0,
    "start_time": "2023-02-03T14:34:12.664Z"
   },
   {
    "duration": 0,
    "start_time": "2023-02-03T14:34:12.665Z"
   },
   {
    "duration": 4,
    "start_time": "2023-02-03T14:34:31.761Z"
   },
   {
    "duration": 4,
    "start_time": "2023-02-03T14:38:14.664Z"
   },
   {
    "duration": 4,
    "start_time": "2023-02-03T14:41:32.150Z"
   },
   {
    "duration": 5,
    "start_time": "2023-02-03T14:41:40.115Z"
   },
   {
    "duration": 19,
    "start_time": "2023-02-03T14:41:48.556Z"
   },
   {
    "duration": 55,
    "start_time": "2023-02-03T14:42:45.343Z"
   },
   {
    "duration": 19,
    "start_time": "2023-02-03T14:42:47.865Z"
   },
   {
    "duration": 4,
    "start_time": "2023-02-03T14:43:14.007Z"
   },
   {
    "duration": 241,
    "start_time": "2023-02-03T14:43:16.133Z"
   },
   {
    "duration": 9,
    "start_time": "2023-02-03T14:47:27.653Z"
   },
   {
    "duration": 13,
    "start_time": "2023-02-03T14:49:06.381Z"
   },
   {
    "duration": 11,
    "start_time": "2023-02-03T14:49:17.195Z"
   },
   {
    "duration": 7,
    "start_time": "2023-02-03T14:51:14.632Z"
   },
   {
    "duration": 12,
    "start_time": "2023-02-03T14:51:31.382Z"
   },
   {
    "duration": 9,
    "start_time": "2023-02-03T14:52:35.953Z"
   },
   {
    "duration": 11,
    "start_time": "2023-02-03T14:52:56.436Z"
   },
   {
    "duration": 21,
    "start_time": "2023-02-03T14:58:46.760Z"
   },
   {
    "duration": 20,
    "start_time": "2023-02-03T15:00:19.942Z"
   },
   {
    "duration": 21,
    "start_time": "2023-02-03T15:01:04.045Z"
   },
   {
    "duration": 12,
    "start_time": "2023-02-03T15:01:53.665Z"
   },
   {
    "duration": 12,
    "start_time": "2023-02-03T15:02:11.097Z"
   },
   {
    "duration": 15,
    "start_time": "2023-02-03T15:02:38.078Z"
   },
   {
    "duration": 6,
    "start_time": "2023-02-03T15:13:18.128Z"
   },
   {
    "duration": 10,
    "start_time": "2023-02-03T15:14:22.898Z"
   },
   {
    "duration": 8,
    "start_time": "2023-02-03T15:14:53.246Z"
   },
   {
    "duration": 39,
    "start_time": "2023-02-03T15:15:20.438Z"
   },
   {
    "duration": 9,
    "start_time": "2023-02-03T15:15:27.988Z"
   },
   {
    "duration": 17,
    "start_time": "2023-02-03T15:15:42.619Z"
   },
   {
    "duration": 11,
    "start_time": "2023-02-03T15:18:36.742Z"
   },
   {
    "duration": 11,
    "start_time": "2023-02-03T15:19:02.032Z"
   },
   {
    "duration": 12,
    "start_time": "2023-02-03T15:24:46.743Z"
   },
   {
    "duration": 7,
    "start_time": "2023-02-03T15:24:58.216Z"
   },
   {
    "duration": 10,
    "start_time": "2023-02-03T15:28:30.422Z"
   },
   {
    "duration": 10,
    "start_time": "2023-02-03T15:29:02.083Z"
   },
   {
    "duration": 8,
    "start_time": "2023-02-03T15:29:45.672Z"
   },
   {
    "duration": 12,
    "start_time": "2023-02-03T15:30:30.832Z"
   },
   {
    "duration": 8,
    "start_time": "2023-02-03T15:31:39.868Z"
   },
   {
    "duration": 6,
    "start_time": "2023-02-03T15:32:01.630Z"
   },
   {
    "duration": 12,
    "start_time": "2023-02-03T15:33:05.851Z"
   },
   {
    "duration": 8,
    "start_time": "2023-02-03T15:33:20.215Z"
   },
   {
    "duration": 46,
    "start_time": "2023-02-04T13:10:08.370Z"
   },
   {
    "duration": 6,
    "start_time": "2023-02-04T13:10:10.878Z"
   },
   {
    "duration": 387,
    "start_time": "2023-02-04T13:10:20.466Z"
   },
   {
    "duration": 308,
    "start_time": "2023-02-04T13:10:20.855Z"
   },
   {
    "duration": 14,
    "start_time": "2023-02-04T13:10:21.165Z"
   },
   {
    "duration": 28,
    "start_time": "2023-02-04T13:10:21.181Z"
   },
   {
    "duration": 19,
    "start_time": "2023-02-04T13:10:21.210Z"
   },
   {
    "duration": 41,
    "start_time": "2023-02-04T13:10:21.231Z"
   },
   {
    "duration": 4,
    "start_time": "2023-02-04T13:10:21.274Z"
   },
   {
    "duration": 26,
    "start_time": "2023-02-04T13:10:21.280Z"
   },
   {
    "duration": 10,
    "start_time": "2023-02-04T13:10:21.309Z"
   },
   {
    "duration": 29,
    "start_time": "2023-02-04T13:10:21.322Z"
   },
   {
    "duration": 30,
    "start_time": "2023-02-04T13:10:21.353Z"
   },
   {
    "duration": 63,
    "start_time": "2023-02-04T13:10:21.385Z"
   },
   {
    "duration": 15,
    "start_time": "2023-02-04T13:10:21.450Z"
   },
   {
    "duration": 26,
    "start_time": "2023-02-04T13:10:21.466Z"
   },
   {
    "duration": 24,
    "start_time": "2023-02-04T13:10:21.494Z"
   },
   {
    "duration": 31,
    "start_time": "2023-02-04T13:10:21.520Z"
   },
   {
    "duration": 20,
    "start_time": "2023-02-04T13:10:21.553Z"
   },
   {
    "duration": 3,
    "start_time": "2023-02-04T13:10:21.576Z"
   },
   {
    "duration": 282,
    "start_time": "2023-02-04T13:10:21.581Z"
   },
   {
    "duration": 8,
    "start_time": "2023-02-04T13:10:21.865Z"
   },
   {
    "duration": 31,
    "start_time": "2023-02-04T13:10:21.874Z"
   },
   {
    "duration": 5,
    "start_time": "2023-02-04T13:10:21.907Z"
   },
   {
    "duration": 75,
    "start_time": "2023-02-04T13:11:55.793Z"
   },
   {
    "duration": 11,
    "start_time": "2023-02-04T13:12:02.334Z"
   },
   {
    "duration": 14,
    "start_time": "2023-02-04T13:12:27.991Z"
   },
   {
    "duration": 25,
    "start_time": "2023-02-04T13:40:25.769Z"
   },
   {
    "duration": 11,
    "start_time": "2023-02-04T13:40:47.845Z"
   },
   {
    "duration": 12,
    "start_time": "2023-02-04T13:40:59.558Z"
   },
   {
    "duration": 10,
    "start_time": "2023-02-04T13:42:04.828Z"
   },
   {
    "duration": 10,
    "start_time": "2023-02-04T13:42:24.614Z"
   },
   {
    "duration": 3,
    "start_time": "2023-02-04T14:23:25.798Z"
   },
   {
    "duration": 5,
    "start_time": "2023-02-04T14:57:21.280Z"
   },
   {
    "duration": 78,
    "start_time": "2023-02-05T18:00:50.815Z"
   },
   {
    "duration": 384,
    "start_time": "2023-02-05T18:01:10.536Z"
   },
   {
    "duration": 135,
    "start_time": "2023-02-05T18:01:10.922Z"
   },
   {
    "duration": 12,
    "start_time": "2023-02-05T18:01:11.059Z"
   },
   {
    "duration": 17,
    "start_time": "2023-02-05T18:01:11.073Z"
   },
   {
    "duration": 25,
    "start_time": "2023-02-05T18:01:11.092Z"
   },
   {
    "duration": 42,
    "start_time": "2023-02-05T18:01:11.119Z"
   },
   {
    "duration": 3,
    "start_time": "2023-02-05T18:01:11.163Z"
   },
   {
    "duration": 23,
    "start_time": "2023-02-05T18:01:11.184Z"
   },
   {
    "duration": 5,
    "start_time": "2023-02-05T18:01:11.209Z"
   },
   {
    "duration": 14,
    "start_time": "2023-02-05T18:01:11.217Z"
   },
   {
    "duration": 5,
    "start_time": "2023-02-05T18:01:11.233Z"
   },
   {
    "duration": 49,
    "start_time": "2023-02-05T18:01:11.239Z"
   },
   {
    "duration": 11,
    "start_time": "2023-02-05T18:01:11.290Z"
   },
   {
    "duration": 6,
    "start_time": "2023-02-05T18:01:11.303Z"
   },
   {
    "duration": 20,
    "start_time": "2023-02-05T18:01:11.310Z"
   },
   {
    "duration": 24,
    "start_time": "2023-02-05T18:01:11.331Z"
   },
   {
    "duration": 37,
    "start_time": "2023-02-05T18:01:11.357Z"
   },
   {
    "duration": 4,
    "start_time": "2023-02-05T18:01:11.396Z"
   },
   {
    "duration": 295,
    "start_time": "2023-02-05T18:01:11.403Z"
   },
   {
    "duration": 5,
    "start_time": "2023-02-05T18:01:11.700Z"
   },
   {
    "duration": 5,
    "start_time": "2023-02-05T18:01:11.707Z"
   },
   {
    "duration": 98,
    "start_time": "2023-02-05T18:01:11.714Z"
   },
   {
    "duration": 15,
    "start_time": "2023-02-05T18:01:37.406Z"
   },
   {
    "duration": 6,
    "start_time": "2023-02-09T07:17:42.219Z"
   },
   {
    "duration": 6,
    "start_time": "2023-02-09T07:18:39.881Z"
   },
   {
    "duration": 50,
    "start_time": "2023-02-10T14:28:46.961Z"
   },
   {
    "duration": 344,
    "start_time": "2023-02-10T14:28:53.683Z"
   },
   {
    "duration": 76,
    "start_time": "2023-02-10T14:28:54.029Z"
   },
   {
    "duration": 0,
    "start_time": "2023-02-10T14:28:54.107Z"
   },
   {
    "duration": 0,
    "start_time": "2023-02-10T14:28:54.110Z"
   },
   {
    "duration": 0,
    "start_time": "2023-02-10T14:28:54.111Z"
   },
   {
    "duration": 0,
    "start_time": "2023-02-10T14:28:54.113Z"
   },
   {
    "duration": 0,
    "start_time": "2023-02-10T14:28:54.114Z"
   },
   {
    "duration": 0,
    "start_time": "2023-02-10T14:28:54.115Z"
   },
   {
    "duration": 0,
    "start_time": "2023-02-10T14:28:54.116Z"
   },
   {
    "duration": 0,
    "start_time": "2023-02-10T14:28:54.117Z"
   },
   {
    "duration": 0,
    "start_time": "2023-02-10T14:28:54.118Z"
   },
   {
    "duration": 0,
    "start_time": "2023-02-10T14:28:54.119Z"
   },
   {
    "duration": 0,
    "start_time": "2023-02-10T14:28:54.120Z"
   },
   {
    "duration": 0,
    "start_time": "2023-02-10T14:28:54.121Z"
   },
   {
    "duration": 0,
    "start_time": "2023-02-10T14:28:54.122Z"
   },
   {
    "duration": 0,
    "start_time": "2023-02-10T14:28:54.124Z"
   },
   {
    "duration": 1,
    "start_time": "2023-02-10T14:28:54.148Z"
   },
   {
    "duration": 0,
    "start_time": "2023-02-10T14:28:54.149Z"
   },
   {
    "duration": 0,
    "start_time": "2023-02-10T14:28:54.150Z"
   },
   {
    "duration": 0,
    "start_time": "2023-02-10T14:28:54.151Z"
   },
   {
    "duration": 0,
    "start_time": "2023-02-10T14:28:54.153Z"
   },
   {
    "duration": 0,
    "start_time": "2023-02-10T14:28:54.154Z"
   },
   {
    "duration": 0,
    "start_time": "2023-02-10T14:28:54.155Z"
   },
   {
    "duration": 0,
    "start_time": "2023-02-10T14:28:54.156Z"
   },
   {
    "duration": 0,
    "start_time": "2023-02-10T14:28:54.157Z"
   },
   {
    "duration": 0,
    "start_time": "2023-02-10T14:28:54.158Z"
   },
   {
    "duration": 11,
    "start_time": "2023-02-10T14:29:06.673Z"
   },
   {
    "duration": 11,
    "start_time": "2023-02-10T14:29:16.422Z"
   },
   {
    "duration": 9,
    "start_time": "2023-02-10T14:29:18.743Z"
   },
   {
    "duration": 9,
    "start_time": "2023-02-10T14:29:40.571Z"
   },
   {
    "duration": 50,
    "start_time": "2023-02-17T08:00:39.730Z"
   },
   {
    "duration": 52,
    "start_time": "2023-02-17T08:00:44.937Z"
   },
   {
    "duration": 0,
    "start_time": "2023-02-17T08:00:44.991Z"
   },
   {
    "duration": 0,
    "start_time": "2023-02-17T08:00:44.993Z"
   },
   {
    "duration": 0,
    "start_time": "2023-02-17T08:00:44.994Z"
   },
   {
    "duration": 0,
    "start_time": "2023-02-17T08:00:44.995Z"
   },
   {
    "duration": 0,
    "start_time": "2023-02-17T08:00:44.996Z"
   },
   {
    "duration": 0,
    "start_time": "2023-02-17T08:00:44.997Z"
   },
   {
    "duration": 0,
    "start_time": "2023-02-17T08:00:44.999Z"
   },
   {
    "duration": 0,
    "start_time": "2023-02-17T08:00:45.000Z"
   },
   {
    "duration": 0,
    "start_time": "2023-02-17T08:00:45.001Z"
   },
   {
    "duration": 8,
    "start_time": "2023-02-17T08:00:45.003Z"
   },
   {
    "duration": 12,
    "start_time": "2023-02-17T08:00:45.050Z"
   },
   {
    "duration": 0,
    "start_time": "2023-02-17T08:00:45.065Z"
   },
   {
    "duration": 0,
    "start_time": "2023-02-17T08:00:45.066Z"
   },
   {
    "duration": 1,
    "start_time": "2023-02-17T08:00:45.068Z"
   },
   {
    "duration": 0,
    "start_time": "2023-02-17T08:00:45.069Z"
   },
   {
    "duration": 0,
    "start_time": "2023-02-17T08:00:45.071Z"
   },
   {
    "duration": 0,
    "start_time": "2023-02-17T08:00:45.073Z"
   },
   {
    "duration": 0,
    "start_time": "2023-02-17T08:00:45.074Z"
   },
   {
    "duration": 0,
    "start_time": "2023-02-17T08:00:45.075Z"
   },
   {
    "duration": 0,
    "start_time": "2023-02-17T08:00:45.076Z"
   },
   {
    "duration": 0,
    "start_time": "2023-02-17T08:00:45.077Z"
   },
   {
    "duration": 0,
    "start_time": "2023-02-17T08:00:45.077Z"
   },
   {
    "duration": 0,
    "start_time": "2023-02-17T08:00:45.079Z"
   },
   {
    "duration": 4,
    "start_time": "2023-02-17T08:00:45.082Z"
   },
   {
    "duration": 62,
    "start_time": "2023-02-17T08:00:45.088Z"
   },
   {
    "duration": 0,
    "start_time": "2023-02-17T08:00:45.152Z"
   },
   {
    "duration": 0,
    "start_time": "2023-02-17T08:00:45.153Z"
   },
   {
    "duration": 0,
    "start_time": "2023-02-17T08:00:45.154Z"
   },
   {
    "duration": 0,
    "start_time": "2023-02-17T08:00:45.156Z"
   },
   {
    "duration": 0,
    "start_time": "2023-02-17T08:00:45.157Z"
   },
   {
    "duration": 8,
    "start_time": "2023-02-17T08:00:45.159Z"
   },
   {
    "duration": 1,
    "start_time": "2023-02-17T08:00:45.169Z"
   },
   {
    "duration": 0,
    "start_time": "2023-02-17T08:00:45.171Z"
   },
   {
    "duration": 0,
    "start_time": "2023-02-17T08:00:45.173Z"
   },
   {
    "duration": 0,
    "start_time": "2023-02-17T08:00:45.174Z"
   },
   {
    "duration": 0,
    "start_time": "2023-02-17T08:00:45.175Z"
   },
   {
    "duration": 0,
    "start_time": "2023-02-17T08:00:45.177Z"
   },
   {
    "duration": 0,
    "start_time": "2023-02-17T08:00:45.178Z"
   },
   {
    "duration": 10,
    "start_time": "2023-02-17T08:00:51.418Z"
   },
   {
    "duration": 7,
    "start_time": "2023-02-17T08:01:25.834Z"
   },
   {
    "duration": 415,
    "start_time": "2023-02-17T08:01:32.958Z"
   },
   {
    "duration": 95,
    "start_time": "2023-02-17T08:01:33.375Z"
   },
   {
    "duration": 0,
    "start_time": "2023-02-17T08:01:33.474Z"
   },
   {
    "duration": 0,
    "start_time": "2023-02-17T08:01:33.475Z"
   },
   {
    "duration": 0,
    "start_time": "2023-02-17T08:01:33.477Z"
   },
   {
    "duration": 0,
    "start_time": "2023-02-17T08:01:33.478Z"
   },
   {
    "duration": 0,
    "start_time": "2023-02-17T08:01:33.480Z"
   },
   {
    "duration": 0,
    "start_time": "2023-02-17T08:01:33.481Z"
   },
   {
    "duration": 0,
    "start_time": "2023-02-17T08:01:33.483Z"
   },
   {
    "duration": 0,
    "start_time": "2023-02-17T08:01:33.485Z"
   },
   {
    "duration": 0,
    "start_time": "2023-02-17T08:01:33.486Z"
   },
   {
    "duration": 0,
    "start_time": "2023-02-17T08:01:33.488Z"
   },
   {
    "duration": 0,
    "start_time": "2023-02-17T08:01:33.490Z"
   },
   {
    "duration": 0,
    "start_time": "2023-02-17T08:01:33.491Z"
   },
   {
    "duration": 0,
    "start_time": "2023-02-17T08:01:33.493Z"
   },
   {
    "duration": 0,
    "start_time": "2023-02-17T08:01:33.495Z"
   },
   {
    "duration": 0,
    "start_time": "2023-02-17T08:01:33.496Z"
   },
   {
    "duration": 0,
    "start_time": "2023-02-17T08:01:33.497Z"
   },
   {
    "duration": 0,
    "start_time": "2023-02-17T08:01:33.498Z"
   },
   {
    "duration": 0,
    "start_time": "2023-02-17T08:01:33.500Z"
   },
   {
    "duration": 0,
    "start_time": "2023-02-17T08:01:33.501Z"
   },
   {
    "duration": 0,
    "start_time": "2023-02-17T08:01:33.502Z"
   },
   {
    "duration": 0,
    "start_time": "2023-02-17T08:01:33.503Z"
   },
   {
    "duration": 0,
    "start_time": "2023-02-17T08:01:33.550Z"
   },
   {
    "duration": 0,
    "start_time": "2023-02-17T08:01:33.551Z"
   },
   {
    "duration": 0,
    "start_time": "2023-02-17T08:01:33.553Z"
   },
   {
    "duration": 0,
    "start_time": "2023-02-17T08:01:33.554Z"
   },
   {
    "duration": 0,
    "start_time": "2023-02-17T08:01:33.555Z"
   },
   {
    "duration": 0,
    "start_time": "2023-02-17T08:01:33.557Z"
   },
   {
    "duration": 0,
    "start_time": "2023-02-17T08:01:33.558Z"
   },
   {
    "duration": 0,
    "start_time": "2023-02-17T08:01:33.560Z"
   },
   {
    "duration": 0,
    "start_time": "2023-02-17T08:01:33.561Z"
   },
   {
    "duration": 0,
    "start_time": "2023-02-17T08:01:33.562Z"
   },
   {
    "duration": 0,
    "start_time": "2023-02-17T08:01:33.564Z"
   },
   {
    "duration": 0,
    "start_time": "2023-02-17T08:01:33.565Z"
   },
   {
    "duration": 0,
    "start_time": "2023-02-17T08:01:33.566Z"
   },
   {
    "duration": 0,
    "start_time": "2023-02-17T08:01:33.568Z"
   },
   {
    "duration": 0,
    "start_time": "2023-02-17T08:01:33.570Z"
   },
   {
    "duration": 0,
    "start_time": "2023-02-17T08:01:33.571Z"
   },
   {
    "duration": 9,
    "start_time": "2023-02-17T08:01:51.507Z"
   },
   {
    "duration": 8,
    "start_time": "2023-02-17T08:02:03.413Z"
   }
  ],
  "colab": {
   "provenance": []
  },
  "kernelspec": {
   "display_name": "Python 3 (ipykernel)",
   "language": "python",
   "name": "python3"
  },
  "language_info": {
   "codemirror_mode": {
    "name": "ipython",
    "version": 3
   },
   "file_extension": ".py",
   "mimetype": "text/x-python",
   "name": "python",
   "nbconvert_exporter": "python",
   "pygments_lexer": "ipython3",
   "version": "3.9.13"
  },
  "toc": {
   "base_numbering": 1,
   "nav_menu": {},
   "number_sections": true,
   "sideBar": true,
   "skip_h1_title": true,
   "title_cell": "Table of Contents",
   "title_sidebar": "Contents",
   "toc_cell": false,
   "toc_position": {},
   "toc_section_display": true,
   "toc_window_display": false
  }
 },
 "nbformat": 4,
 "nbformat_minor": 5
}
